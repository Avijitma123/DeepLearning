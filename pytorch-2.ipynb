{
 "cells": [
  {
   "cell_type": "code",
   "execution_count": null,
   "id": "e201e448",
   "metadata": {
    "_cell_guid": "b1076dfc-b9ad-4769-8c92-a6c4dae69d19",
    "_uuid": "8f2839f25d086af736a60e9eeb907d3b93b6e0e5",
    "papermill": {
     "duration": 0.007542,
     "end_time": "2024-01-06T05:11:04.779211",
     "exception": false,
     "start_time": "2024-01-06T05:11:04.771669",
     "status": "completed"
    },
    "tags": []
   },
   "outputs": [],
   "source": []
  },
  {
   "cell_type": "markdown",
   "id": "a49ee12d",
   "metadata": {
    "papermill": {
     "duration": 0.005898,
     "end_time": "2024-01-06T05:11:04.792233",
     "exception": false,
     "start_time": "2024-01-06T05:11:04.786335",
     "status": "completed"
    },
    "tags": []
   },
   "source": [
    "### PyTorch Workflow\n"
   ]
  },
  {
   "cell_type": "code",
   "execution_count": 1,
   "id": "36924bad",
   "metadata": {
    "execution": {
     "iopub.execute_input": "2024-01-06T05:11:04.806770Z",
     "iopub.status.busy": "2024-01-06T05:11:04.806037Z",
     "iopub.status.idle": "2024-01-06T05:11:04.822290Z",
     "shell.execute_reply": "2024-01-06T05:11:04.821174Z"
    },
    "papermill": {
     "duration": 0.026459,
     "end_time": "2024-01-06T05:11:04.824795",
     "exception": false,
     "start_time": "2024-01-06T05:11:04.798336",
     "status": "completed"
    },
    "tags": []
   },
   "outputs": [
    {
     "data": {
      "text/plain": [
       "{1: 'Data (prepare and load)',\n",
       " 2: 'Build model',\n",
       " 3: 'Fitting the model to data (training)',\n",
       " 4: 'Making predictions and evaluation a model',\n",
       " 5: 'Save and load model'}"
      ]
     },
     "execution_count": 1,
     "metadata": {},
     "output_type": "execute_result"
    }
   ],
   "source": [
    "{1:  \"Data (prepare and load)\",\n",
    " 2:  \"Build model\",\n",
    " 3:  \"Fitting the model to data (training)\",\n",
    " 4:  \"Making predictions and evaluation a model\",\n",
    " 5:  \"Save and load model\"}"
   ]
  },
  {
   "cell_type": "markdown",
   "id": "207c3535",
   "metadata": {
    "papermill": {
     "duration": 0.00612,
     "end_time": "2024-01-06T05:11:04.837656",
     "exception": false,
     "start_time": "2024-01-06T05:11:04.831536",
     "status": "completed"
    },
    "tags": []
   },
   "source": []
  },
  {
   "cell_type": "code",
   "execution_count": 2,
   "id": "7a86f4d0",
   "metadata": {
    "execution": {
     "iopub.execute_input": "2024-01-06T05:11:04.852405Z",
     "iopub.status.busy": "2024-01-06T05:11:04.851997Z",
     "iopub.status.idle": "2024-01-06T05:11:08.213565Z",
     "shell.execute_reply": "2024-01-06T05:11:08.212565Z"
    },
    "papermill": {
     "duration": 3.372208,
     "end_time": "2024-01-06T05:11:08.216239",
     "exception": false,
     "start_time": "2024-01-06T05:11:04.844031",
     "status": "completed"
    },
    "tags": []
   },
   "outputs": [],
   "source": [
    "import torch\n",
    "from torch import nn ## nn contains all building blocks\n",
    "import matplotlib.pyplot as plt"
   ]
  },
  {
   "cell_type": "markdown",
   "id": "2f73e3c4",
   "metadata": {
    "papermill": {
     "duration": 0.006364,
     "end_time": "2024-01-06T05:11:08.229462",
     "exception": false,
     "start_time": "2024-01-06T05:11:08.223098",
     "status": "completed"
    },
    "tags": []
   },
   "source": [
    "## 1. Data\n",
    "\n",
    "Data can be almost anything ... in machine learning.\n",
    "* Excel spreadsheet\n",
    "* Images\n",
    "* Videos\n",
    "* Audio\n",
    "* DNA\n",
    "* Text\n"
   ]
  },
  {
   "cell_type": "code",
   "execution_count": 3,
   "id": "19671c6e",
   "metadata": {
    "execution": {
     "iopub.execute_input": "2024-01-06T05:11:08.244851Z",
     "iopub.status.busy": "2024-01-06T05:11:08.244267Z",
     "iopub.status.idle": "2024-01-06T05:11:08.371451Z",
     "shell.execute_reply": "2024-01-06T05:11:08.370247Z"
    },
    "papermill": {
     "duration": 0.137731,
     "end_time": "2024-01-06T05:11:08.373841",
     "exception": false,
     "start_time": "2024-01-06T05:11:08.236110",
     "status": "completed"
    },
    "tags": []
   },
   "outputs": [
    {
     "name": "stdout",
     "output_type": "stream",
     "text": [
      "tensor([0.0000, 0.0200, 0.0400, 0.0600, 0.0800, 0.1000, 0.1200, 0.1400, 0.1600,\n",
      "        0.1800])\n"
     ]
    },
    {
     "data": {
      "text/plain": [
       "(tensor([[0.0000],\n",
       "         [0.0200],\n",
       "         [0.0400],\n",
       "         [0.0600],\n",
       "         [0.0800],\n",
       "         [0.1000],\n",
       "         [0.1200],\n",
       "         [0.1400],\n",
       "         [0.1600],\n",
       "         [0.1800]]),\n",
       " tensor([[0.3000],\n",
       "         [0.3140],\n",
       "         [0.3280],\n",
       "         [0.3420],\n",
       "         [0.3560],\n",
       "         [0.3700],\n",
       "         [0.3840],\n",
       "         [0.3980],\n",
       "         [0.4120],\n",
       "         [0.4260]]),\n",
       " 50,\n",
       " 50)"
      ]
     },
     "execution_count": 3,
     "metadata": {},
     "output_type": "execute_result"
    }
   ],
   "source": [
    "# Create *known* parameters\n",
    "\n",
    "weight = 0.7\n",
    "bias = 0.3\n",
    "\n",
    "# Create\n",
    "\n",
    "start = 0 \n",
    "end = 1\n",
    "step = 0.02\n",
    "k = torch.arange(start, end , step)\n",
    "print(k[:10])\n",
    "x = torch.arange(start, end , step).unsqueeze(dim=1)\n",
    "\n",
    "y = weight * x + bias\n",
    "\n",
    "x[:10], y[:10], len(x), len(y)"
   ]
  },
  {
   "cell_type": "markdown",
   "id": "db74623e",
   "metadata": {
    "papermill": {
     "duration": 0.00644,
     "end_time": "2024-01-06T05:11:08.387110",
     "exception": false,
     "start_time": "2024-01-06T05:11:08.380670",
     "status": "completed"
    },
    "tags": []
   },
   "source": []
  },
  {
   "cell_type": "code",
   "execution_count": 4,
   "id": "89df5ba5",
   "metadata": {
    "execution": {
     "iopub.execute_input": "2024-01-06T05:11:08.402628Z",
     "iopub.status.busy": "2024-01-06T05:11:08.401927Z",
     "iopub.status.idle": "2024-01-06T05:11:08.407606Z",
     "shell.execute_reply": "2024-01-06T05:11:08.406805Z"
    },
    "papermill": {
     "duration": 0.015999,
     "end_time": "2024-01-06T05:11:08.409740",
     "exception": false,
     "start_time": "2024-01-06T05:11:08.393741",
     "status": "completed"
    },
    "tags": []
   },
   "outputs": [],
   "source": [
    "train_split = int(0.8 * len(x))\n",
    "train_split\n",
    "X_train, Y_train = x[:train_split],y[:train_split]\n",
    "\n",
    "X_test, Y_test = x[train_split:], y[train_split:]\n",
    "\n"
   ]
  },
  {
   "cell_type": "code",
   "execution_count": 5,
   "id": "231e01df",
   "metadata": {
    "execution": {
     "iopub.execute_input": "2024-01-06T05:11:08.425066Z",
     "iopub.status.busy": "2024-01-06T05:11:08.424399Z",
     "iopub.status.idle": "2024-01-06T05:11:08.431755Z",
     "shell.execute_reply": "2024-01-06T05:11:08.430820Z"
    },
    "papermill": {
     "duration": 0.017736,
     "end_time": "2024-01-06T05:11:08.434089",
     "exception": false,
     "start_time": "2024-01-06T05:11:08.416353",
     "status": "completed"
    },
    "tags": []
   },
   "outputs": [],
   "source": [
    "def plot_predictions(train_data=X_train,train_labels=Y_train,test_data=X_test,test_labels=Y_test, predictions=None ):\n",
    "    plt.figure(figsize=(10,7))\n",
    "    plt.scatter(train_data,train_labels, c=\"b\",s=4,label=\"Train data\")\n",
    "    plt.scatter(test_data,test_labels,c=\"g\",s=4, label=\"Testing data\")\n",
    "    \n",
    "    if predictions is not None:\n",
    "        plt.scatter(test_data,predictions, c=\"r\", label=\"Predictions\")\n",
    "    plt.legend(prop={\"size\": 14});    \n",
    "        \n",
    "        "
   ]
  },
  {
   "cell_type": "code",
   "execution_count": 6,
   "id": "30c42fab",
   "metadata": {
    "execution": {
     "iopub.execute_input": "2024-01-06T05:11:08.450105Z",
     "iopub.status.busy": "2024-01-06T05:11:08.449420Z",
     "iopub.status.idle": "2024-01-06T05:11:08.886095Z",
     "shell.execute_reply": "2024-01-06T05:11:08.884826Z"
    },
    "papermill": {
     "duration": 0.447749,
     "end_time": "2024-01-06T05:11:08.888655",
     "exception": false,
     "start_time": "2024-01-06T05:11:08.440906",
     "status": "completed"
    },
    "tags": []
   },
   "outputs": [
    {
     "data": {
      "image/png": "[encoded data removed]",
      "text/plain": [
       "<Figure size 1000x700 with 1 Axes>"
      ]
     },
     "metadata": {},
     "output_type": "display_data"
    }
   ],
   "source": [
    "plot_predictions();"
   ]
  },
  {
   "cell_type": "code",
   "execution_count": 7,
   "id": "80aedf58",
   "metadata": {
    "execution": {
     "iopub.execute_input": "2024-01-06T05:11:08.904965Z",
     "iopub.status.busy": "2024-01-06T05:11:08.904577Z",
     "iopub.status.idle": "2024-01-06T05:11:08.911519Z",
     "shell.execute_reply": "2024-01-06T05:11:08.910473Z"
    },
    "papermill": {
     "duration": 0.017782,
     "end_time": "2024-01-06T05:11:08.913689",
     "exception": false,
     "start_time": "2024-01-06T05:11:08.895907",
     "status": "completed"
    },
    "tags": []
   },
   "outputs": [],
   "source": [
    "#Model\n",
    "\n",
    "class LinearRegressionModel(nn.Module):\n",
    "    def __init__(self):\n",
    "        super().__init__()\n",
    "        self.weights = nn.Parameter(torch.randn(1,requires_grad = True, dtype = torch.float))\n",
    "        self.bias = nn.Parameter(torch.randn(1,requires_grad = True, dtype = torch.float))\n",
    "    def forward(self,x):\n",
    "        return self.weights * x + self.bias\n",
    "    \n",
    "    "
   ]
  },
  {
   "cell_type": "code",
   "execution_count": 8,
   "id": "ba541915",
   "metadata": {
    "execution": {
     "iopub.execute_input": "2024-01-06T05:11:08.929650Z",
     "iopub.status.busy": "2024-01-06T05:11:08.929275Z",
     "iopub.status.idle": "2024-01-06T05:11:08.947807Z",
     "shell.execute_reply": "2024-01-06T05:11:08.946979Z"
    },
    "papermill": {
     "duration": 0.029046,
     "end_time": "2024-01-06T05:11:08.949932",
     "exception": false,
     "start_time": "2024-01-06T05:11:08.920886",
     "status": "completed"
    },
    "tags": []
   },
   "outputs": [
    {
     "data": {
      "text/plain": [
       "[Parameter containing:\n",
       " tensor([0.3367], requires_grad=True),\n",
       " Parameter containing:\n",
       " tensor([0.1288], requires_grad=True)]"
      ]
     },
     "execution_count": 8,
     "metadata": {},
     "output_type": "execute_result"
    }
   ],
   "source": [
    "torch.manual_seed(42)\n",
    "\n",
    "model_0 = LinearRegressionModel()\n",
    "\n",
    "list(model_0.parameters())"
   ]
  },
  {
   "cell_type": "code",
   "execution_count": 9,
   "id": "e5948af9",
   "metadata": {
    "execution": {
     "iopub.execute_input": "2024-01-06T05:11:08.967127Z",
     "iopub.status.busy": "2024-01-06T05:11:08.966103Z",
     "iopub.status.idle": "2024-01-06T05:11:08.974947Z",
     "shell.execute_reply": "2024-01-06T05:11:08.973821Z"
    },
    "papermill": {
     "duration": 0.020022,
     "end_time": "2024-01-06T05:11:08.977377",
     "exception": false,
     "start_time": "2024-01-06T05:11:08.957355",
     "status": "completed"
    },
    "tags": []
   },
   "outputs": [
    {
     "data": {
      "text/plain": [
       "tensor([[0.3982],\n",
       "        [0.4049],\n",
       "        [0.4116],\n",
       "        [0.4184],\n",
       "        [0.4251],\n",
       "        [0.4318],\n",
       "        [0.4386],\n",
       "        [0.4453],\n",
       "        [0.4520],\n",
       "        [0.4588]])"
      ]
     },
     "execution_count": 9,
     "metadata": {},
     "output_type": "execute_result"
    }
   ],
   "source": [
    "#Make predictions with model\n",
    "\n",
    "with torch.inference_mode():\n",
    "    y_preds = model_0(X_test)\n",
    "y_preds    \n",
    "    "
   ]
  },
  {
   "cell_type": "code",
   "execution_count": 10,
   "id": "0ced899b",
   "metadata": {
    "execution": {
     "iopub.execute_input": "2024-01-06T05:11:08.994714Z",
     "iopub.status.busy": "2024-01-06T05:11:08.994304Z",
     "iopub.status.idle": "2024-01-06T05:11:09.435407Z",
     "shell.execute_reply": "2024-01-06T05:11:09.434618Z"
    },
    "papermill": {
     "duration": 0.452692,
     "end_time": "2024-01-06T05:11:09.437878",
     "exception": false,
     "start_time": "2024-01-06T05:11:08.985186",
     "status": "completed"
    },
    "tags": []
   },
   "outputs": [
    {
     "data": {
      "image/png": "[encoded data removed]",
      "text/plain": [
       "<Figure size 1000x700 with 1 Axes>"
      ]
     },
     "metadata": {},
     "output_type": "display_data"
    }
   ],
   "source": [
    "plot_predictions(predictions=y_preds);"
   ]
  },
  {
   "cell_type": "code",
   "execution_count": 11,
   "id": "e30082f8",
   "metadata": {
    "execution": {
     "iopub.execute_input": "2024-01-06T05:11:09.456892Z",
     "iopub.status.busy": "2024-01-06T05:11:09.456057Z",
     "iopub.status.idle": "2024-01-06T05:11:09.461569Z",
     "shell.execute_reply": "2024-01-06T05:11:09.460404Z"
    },
    "papermill": {
     "duration": 0.017858,
     "end_time": "2024-01-06T05:11:09.463895",
     "exception": false,
     "start_time": "2024-01-06T05:11:09.446037",
     "status": "completed"
    },
    "tags": []
   },
   "outputs": [],
   "source": [
    "#setup loss function\n",
    "\n",
    "loss_fn = nn.L1Loss()"
   ]
  },
  {
   "cell_type": "code",
   "execution_count": 12,
   "id": "360c521a",
   "metadata": {
    "execution": {
     "iopub.execute_input": "2024-01-06T05:11:09.482085Z",
     "iopub.status.busy": "2024-01-06T05:11:09.481658Z",
     "iopub.status.idle": "2024-01-06T05:11:09.486189Z",
     "shell.execute_reply": "2024-01-06T05:11:09.485332Z"
    },
    "papermill": {
     "duration": 0.016202,
     "end_time": "2024-01-06T05:11:09.488292",
     "exception": false,
     "start_time": "2024-01-06T05:11:09.472090",
     "status": "completed"
    },
    "tags": []
   },
   "outputs": [],
   "source": [
    "#optimizer\n",
    "\n",
    "optimizer = torch.optim.SGD(params=model_0.parameters(),lr=0.01)"
   ]
  },
  {
   "cell_type": "code",
   "execution_count": 13,
   "id": "f7502745",
   "metadata": {
    "execution": {
     "iopub.execute_input": "2024-01-06T05:11:09.506541Z",
     "iopub.status.busy": "2024-01-06T05:11:09.505515Z",
     "iopub.status.idle": "2024-01-06T05:11:09.533467Z",
     "shell.execute_reply": "2024-01-06T05:11:09.532251Z"
    },
    "papermill": {
     "duration": 0.039904,
     "end_time": "2024-01-06T05:11:09.536146",
     "exception": false,
     "start_time": "2024-01-06T05:11:09.496242",
     "status": "completed"
    },
    "tags": []
   },
   "outputs": [
    {
     "name": "stdout",
     "output_type": "stream",
     "text": [
      "Train Loss:0.31288138031959534 Test Loss:0.48106518387794495 Epoch:1\n",
      "Train Loss:0.3013603389263153 Test Loss:0.4675942063331604 Epoch:2\n",
      "Train Loss:0.28983935713768005 Test Loss:0.4541231691837311 Epoch:3\n",
      "Train Loss:0.2783183455467224 Test Loss:0.44065219163894653 Epoch:4\n",
      "Train Loss:0.26679736375808716 Test Loss:0.4271811842918396 Epoch:5\n",
      "Train Loss:0.2552763521671295 Test Loss:0.41371020674705505 Epoch:6\n",
      "Train Loss:0.24375534057617188 Test Loss:0.40023916959762573 Epoch:7\n",
      "Train Loss:0.23223432898521423 Test Loss:0.3867681920528412 Epoch:8\n",
      "Train Loss:0.22071333229541779 Test Loss:0.37329721450805664 Epoch:9\n",
      "Train Loss:0.20919232070446014 Test Loss:0.3598262071609497 Epoch:10\n"
     ]
    }
   ],
   "source": [
    "epochs = 10\n",
    "\n",
    "# 0. loop through the data\n",
    "for epoch in range(epochs):\n",
    "    # set the model to training mode\n",
    "    model_0.train()\n",
    "    #forward pass\n",
    "    y_pred = model_0(X_train)\n",
    "    loss = loss_fn(y_pred,Y_train)\n",
    "    \n",
    "    # optimizer zero grad\n",
    "    optimizer.zero_grad()\n",
    "    # backpropagation\n",
    "    loss.backward()\n",
    "    #step the optim\n",
    "    optimizer.step()\n",
    "    model_0.eval()\n",
    "    with torch.inference_mode():\n",
    "        y_preds_new = model_0(X_test)\n",
    "        test_loss = loss_fn(y_preds_new, Y_test)\n",
    "    print(f\"Train Loss:{loss} Test Loss:{test_loss} Epoch:{epoch+1}\")\n",
    "    \n",
    "\n"
   ]
  },
  {
   "cell_type": "code",
   "execution_count": 14,
   "id": "3aba4179",
   "metadata": {
    "execution": {
     "iopub.execute_input": "2024-01-06T05:11:09.554502Z",
     "iopub.status.busy": "2024-01-06T05:11:09.554120Z",
     "iopub.status.idle": "2024-01-06T05:11:10.083370Z",
     "shell.execute_reply": "2024-01-06T05:11:10.082208Z"
    },
    "papermill": {
     "duration": 0.542044,
     "end_time": "2024-01-06T05:11:10.086443",
     "exception": false,
     "start_time": "2024-01-06T05:11:09.544399",
     "status": "completed"
    },
    "tags": []
   },
   "outputs": [
    {
     "data": {
      "image/png": "[encoded data removed]",
      "text/plain": [
       "<Figure size 1000x700 with 1 Axes>"
      ]
     },
     "metadata": {},
     "output_type": "display_data"
    }
   ],
   "source": [
    "\n",
    "plot_predictions(predictions=y_preds_new);    "
   ]
  }
 ],
 "metadata": {
  "kaggle": {
   "accelerator": "none",
   "dataSources": [],
   "dockerImageVersionId": 30626,
   "isGpuEnabled": false,
   "isInternetEnabled": true,
   "language": "python",
   "sourceType": "notebook"
  },
  "kernelspec": {
   "display_name": "Python 3",
   "language": "python",
   "name": "python3"
  },
  "language_info": {
   "codemirror_mode": {
    "name": "ipython",
    "version": 3
   },
   "file_extension": ".py",
   "mimetype": "text/x-python",
   "name": "python",
   "nbconvert_exporter": "python",
   "pygments_lexer": "ipython3",
   "version": "3.10.12"
  },
  "papermill": {
   "default_parameters": {},
   "duration": 9.454226,
   "end_time": "2024-01-06T05:11:10.916944",
   "environment_variables": {},
   "exception": null,
   "input_path": "__notebook__.ipynb",
   "output_path": "__notebook__.ipynb",
   "parameters": {},
   "start_time": "2024-01-06T05:11:01.462718",
   "version": "2.4.0"
  }
 },
 "nbformat": 4,
 "nbformat_minor": 5
}
