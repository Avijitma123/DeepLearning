{
 "cells": [
  {
   "cell_type": "code",
   "execution_count": 1,
   "id": "4633777b",
   "metadata": {
    "_cell_guid": "b1076dfc-b9ad-4769-8c92-a6c4dae69d19",
    "_uuid": "8f2839f25d086af736a60e9eeb907d3b93b6e0e5",
    "execution": {
     "iopub.execute_input": "2023-04-09T15:33:07.833732Z",
     "iopub.status.busy": "2023-04-09T15:33:07.833277Z",
     "iopub.status.idle": "2023-04-09T15:33:10.660064Z",
     "shell.execute_reply": "2023-04-09T15:33:10.659016Z"
    },
    "papermill": {
     "duration": 2.840746,
     "end_time": "2023-04-09T15:33:10.662857",
     "exception": false,
     "start_time": "2023-04-09T15:33:07.822111",
     "status": "completed"
    },
    "tags": []
   },
   "outputs": [],
   "source": [
    "import torchvision\n",
    "import numpy as np\n",
    "import torch\n",
    "from torchvision.datasets import MNIST\n",
    "from torchvision.transforms import ToTensor\n",
    "from torch.utils.data.sampler import SubsetRandomSampler\n",
    "from torch.utils.data.dataloader import DataLoader "
   ]
  },
  {
   "cell_type": "markdown",
   "id": "ec64827c",
   "metadata": {
    "papermill": {
     "duration": 0.007991,
     "end_time": "2023-04-09T15:33:10.679676",
     "exception": false,
     "start_time": "2023-04-09T15:33:10.671685",
     "status": "completed"
    },
    "tags": []
   },
   "source": [
    "# **Data Preprocessing**"
   ]
  },
  {
   "cell_type": "code",
   "execution_count": 2,
   "id": "5ebd27ae",
   "metadata": {
    "execution": {
     "iopub.execute_input": "2023-04-09T15:33:10.698353Z",
     "iopub.status.busy": "2023-04-09T15:33:10.697164Z",
     "iopub.status.idle": "2023-04-09T15:33:11.808676Z",
     "shell.execute_reply": "2023-04-09T15:33:11.807724Z"
    },
    "papermill": {
     "duration": 1.12346,
     "end_time": "2023-04-09T15:33:11.811136",
     "exception": false,
     "start_time": "2023-04-09T15:33:10.687676",
     "status": "completed"
    },
    "tags": []
   },
   "outputs": [
    {
     "name": "stdout",
     "output_type": "stream",
     "text": [
      "Downloading http://yann.lecun.com/exdb/mnist/train-images-idx3-ubyte.gz\n",
      "Downloading http://yann.lecun.com/exdb/mnist/train-images-idx3-ubyte.gz to Data/MNIST/raw/train-images-idx3-ubyte.gz\n"
     ]
    },
    {
     "data": {
      "application/vnd.jupyter.widget-view+json": {
       "model_id": "32de293ca95d48f5bb672192198537ee",
       "version_major": 2,
       "version_minor": 0
      },
      "text/plain": [
       "  0%|          | 0/9912422 [00:00<?, ?it/s]"
      ]
     },
     "metadata": {},
     "output_type": "display_data"
    },
    {
     "name": "stdout",
     "output_type": "stream",
     "text": [
      "Extracting Data/MNIST/raw/train-images-idx3-ubyte.gz to Data/MNIST/raw\n",
      "\n",
      "Downloading http://yann.lecun.com/exdb/mnist/train-labels-idx1-ubyte.gz\n",
      "Downloading http://yann.lecun.com/exdb/mnist/train-labels-idx1-ubyte.gz to Data/MNIST/raw/train-labels-idx1-ubyte.gz\n"
     ]
    },
    {
     "data": {
      "application/vnd.jupyter.widget-view+json": {
       "model_id": "b4a3db98f667421d8847b7e582bb6ded",
       "version_major": 2,
       "version_minor": 0
      },
      "text/plain": [
       "  0%|          | 0/28881 [00:00<?, ?it/s]"
      ]
     },
     "metadata": {},
     "output_type": "display_data"
    },
    {
     "name": "stdout",
     "output_type": "stream",
     "text": [
      "Extracting Data/MNIST/raw/train-labels-idx1-ubyte.gz to Data/MNIST/raw\n",
      "\n",
      "Downloading http://yann.lecun.com/exdb/mnist/t10k-images-idx3-ubyte.gz\n",
      "Downloading http://yann.lecun.com/exdb/mnist/t10k-images-idx3-ubyte.gz to Data/MNIST/raw/t10k-images-idx3-ubyte.gz\n"
     ]
    },
    {
     "data": {
      "application/vnd.jupyter.widget-view+json": {
       "model_id": "5dacf2e722cf463abfcef17e98ffeeac",
       "version_major": 2,
       "version_minor": 0
      },
      "text/plain": [
       "  0%|          | 0/1648877 [00:00<?, ?it/s]"
      ]
     },
     "metadata": {},
     "output_type": "display_data"
    },
    {
     "name": "stdout",
     "output_type": "stream",
     "text": [
      "Extracting Data/MNIST/raw/t10k-images-idx3-ubyte.gz to Data/MNIST/raw\n",
      "\n",
      "Downloading http://yann.lecun.com/exdb/mnist/t10k-labels-idx1-ubyte.gz\n",
      "Downloading http://yann.lecun.com/exdb/mnist/t10k-labels-idx1-ubyte.gz to Data/MNIST/raw/t10k-labels-idx1-ubyte.gz\n"
     ]
    },
    {
     "data": {
      "application/vnd.jupyter.widget-view+json": {
       "model_id": "ebe86ae881d44d9d96bdecff050b9358",
       "version_major": 2,
       "version_minor": 0
      },
      "text/plain": [
       "  0%|          | 0/4542 [00:00<?, ?it/s]"
      ]
     },
     "metadata": {},
     "output_type": "display_data"
    },
    {
     "name": "stdout",
     "output_type": "stream",
     "text": [
      "Extracting Data/MNIST/raw/t10k-labels-idx1-ubyte.gz to Data/MNIST/raw\n",
      "\n"
     ]
    }
   ],
   "source": [
    "dataset = MNIST(root='Data/',download=True)"
   ]
  },
  {
   "cell_type": "code",
   "execution_count": 3,
   "id": "f1faa9b4",
   "metadata": {
    "execution": {
     "iopub.execute_input": "2023-04-09T15:33:11.831296Z",
     "iopub.status.busy": "2023-04-09T15:33:11.830415Z",
     "iopub.status.idle": "2023-04-09T15:33:12.085751Z",
     "shell.execute_reply": "2023-04-09T15:33:12.084749Z"
    },
    "papermill": {
     "duration": 0.267625,
     "end_time": "2023-04-09T15:33:12.088016",
     "exception": false,
     "start_time": "2023-04-09T15:33:11.820391",
     "status": "completed"
    },
    "tags": []
   },
   "outputs": [
    {
     "name": "stdout",
     "output_type": "stream",
     "text": [
      "Label: 5\n"
     ]
    },
    {
     "data": {
      "text/plain": [
       "<matplotlib.image.AxesImage at 0x7ba7332bdf50>"
      ]
     },
     "execution_count": 3,
     "metadata": {},
     "output_type": "execute_result"
    },
    {
     "data": {
      "image/png": "[encoded data removed]",
      "text/plain": [
       "<Figure size 640x480 with 1 Axes>"
      ]
     },
     "metadata": {},
     "output_type": "display_data"
    }
   ],
   "source": [
    "import matplotlib.pyplot as plt\n",
    "%matplotlib inline\n",
    "image,label = dataset[0]\n",
    "print(\"Label:\",label)\n",
    "plt.imshow(image,cmap='gray')"
   ]
  },
  {
   "cell_type": "code",
   "execution_count": 4,
   "id": "c4a2ad1c",
   "metadata": {
    "execution": {
     "iopub.execute_input": "2023-04-09T15:33:12.110470Z",
     "iopub.status.busy": "2023-04-09T15:33:12.109511Z",
     "iopub.status.idle": "2023-04-09T15:33:12.189566Z",
     "shell.execute_reply": "2023-04-09T15:33:12.186857Z"
    },
    "papermill": {
     "duration": 0.098398,
     "end_time": "2023-04-09T15:33:12.196606",
     "exception": false,
     "start_time": "2023-04-09T15:33:12.098208",
     "status": "completed"
    },
    "tags": []
   },
   "outputs": [],
   "source": [
    "dataset = MNIST(root='Data/',train=True,transform=ToTensor())"
   ]
  },
  {
   "cell_type": "code",
   "execution_count": 5,
   "id": "29019080",
   "metadata": {
    "execution": {
     "iopub.execute_input": "2023-04-09T15:33:12.231673Z",
     "iopub.status.busy": "2023-04-09T15:33:12.231135Z",
     "iopub.status.idle": "2023-04-09T15:33:12.256032Z",
     "shell.execute_reply": "2023-04-09T15:33:12.254829Z"
    },
    "papermill": {
     "duration": 0.044847,
     "end_time": "2023-04-09T15:33:12.259796",
     "exception": false,
     "start_time": "2023-04-09T15:33:12.214949",
     "status": "completed"
    },
    "tags": []
   },
   "outputs": [
    {
     "name": "stdout",
     "output_type": "stream",
     "text": [
      "Label: 5\n"
     ]
    }
   ],
   "source": [
    "image,label = dataset[0]\n",
    "print(\"Label:\",label)"
   ]
  },
  {
   "cell_type": "code",
   "execution_count": null,
   "id": "3b7268c5",
   "metadata": {
    "papermill": {
     "duration": 0.008658,
     "end_time": "2023-04-09T15:33:12.277572",
     "exception": false,
     "start_time": "2023-04-09T15:33:12.268914",
     "status": "completed"
    },
    "tags": []
   },
   "outputs": [],
   "source": [
    "\n"
   ]
  },
  {
   "cell_type": "code",
   "execution_count": 6,
   "id": "fc641ec6",
   "metadata": {
    "execution": {
     "iopub.execute_input": "2023-04-09T15:33:12.296506Z",
     "iopub.status.busy": "2023-04-09T15:33:12.296193Z",
     "iopub.status.idle": "2023-04-09T15:33:12.301277Z",
     "shell.execute_reply": "2023-04-09T15:33:12.300354Z"
    },
    "papermill": {
     "duration": 0.017238,
     "end_time": "2023-04-09T15:33:12.303554",
     "exception": false,
     "start_time": "2023-04-09T15:33:12.286316",
     "status": "completed"
    },
    "tags": []
   },
   "outputs": [],
   "source": [
    "#Split the dataset into train and validation \n",
    "\n",
    "\n",
    "def Split_indices(n,val_pct):\n",
    "  #Number of images in validation dataset\n",
    "  n_val = int(val_pct*n)\n",
    "  #create a random permutation 0 to n-1\n",
    "  indxs = np.random.permutation(n)\n",
    "  #pick first n_val indices for validation\n",
    "  return indxs[n_val:],indxs[:n_val]\n"
   ]
  },
  {
   "cell_type": "code",
   "execution_count": 7,
   "id": "2c6d71bd",
   "metadata": {
    "execution": {
     "iopub.execute_input": "2023-04-09T15:33:12.323282Z",
     "iopub.status.busy": "2023-04-09T15:33:12.322429Z",
     "iopub.status.idle": "2023-04-09T15:33:12.331697Z",
     "shell.execute_reply": "2023-04-09T15:33:12.330600Z"
    },
    "papermill": {
     "duration": 0.021586,
     "end_time": "2023-04-09T15:33:12.334105",
     "exception": false,
     "start_time": "2023-04-09T15:33:12.312519",
     "status": "completed"
    },
    "tags": []
   },
   "outputs": [
    {
     "name": "stdout",
     "output_type": "stream",
     "text": [
      "Training dataset size: 48000\n",
      "Testing dataset size: 12000\n"
     ]
    }
   ],
   "source": [
    "train_indices,valid_indices = Split_indices(len(dataset),0.2)\n",
    "\n",
    "print(\"Training dataset size:\",len(train_indices))\n",
    "print(\"Testing dataset size:\",len(valid_indices))"
   ]
  },
  {
   "cell_type": "code",
   "execution_count": 8,
   "id": "ec7f5f77",
   "metadata": {
    "execution": {
     "iopub.execute_input": "2023-04-09T15:33:12.358503Z",
     "iopub.status.busy": "2023-04-09T15:33:12.358231Z",
     "iopub.status.idle": "2023-04-09T15:33:12.363113Z",
     "shell.execute_reply": "2023-04-09T15:33:12.362053Z"
    },
    "papermill": {
     "duration": 0.021837,
     "end_time": "2023-04-09T15:33:12.365212",
     "exception": false,
     "start_time": "2023-04-09T15:33:12.343375",
     "status": "completed"
    },
    "tags": []
   },
   "outputs": [],
   "source": [
    "#Train sampler and dataloader\n",
    "batch_size = 100\n",
    "\n",
    "train_sampler = SubsetRandomSampler(train_indices)\n",
    "train_dl = DataLoader(dataset,batch_size,sampler = train_sampler)\n",
    "\n",
    "valid_sampler = SubsetRandomSampler(valid_indices)\n",
    "valid_dl = DataLoader(dataset,batch_size,sampler = valid_sampler)\n",
    "\n"
   ]
  },
  {
   "cell_type": "markdown",
   "id": "f31727c4",
   "metadata": {
    "papermill": {
     "duration": 0.008758,
     "end_time": "2023-04-09T15:33:12.382991",
     "exception": false,
     "start_time": "2023-04-09T15:33:12.374233",
     "status": "completed"
    },
    "tags": []
   },
   "source": [
    "# **Model**"
   ]
  },
  {
   "cell_type": "code",
   "execution_count": 9,
   "id": "a9986973",
   "metadata": {
    "execution": {
     "iopub.execute_input": "2023-04-09T15:33:12.406982Z",
     "iopub.status.busy": "2023-04-09T15:33:12.406176Z",
     "iopub.status.idle": "2023-04-09T15:33:12.411113Z",
     "shell.execute_reply": "2023-04-09T15:33:12.410122Z"
    },
    "papermill": {
     "duration": 0.021424,
     "end_time": "2023-04-09T15:33:12.413236",
     "exception": false,
     "start_time": "2023-04-09T15:33:12.391812",
     "status": "completed"
    },
    "tags": []
   },
   "outputs": [],
   "source": [
    "import torch.nn.functional as F\n",
    "import torch.nn as nn"
   ]
  },
  {
   "cell_type": "code",
   "execution_count": 10,
   "id": "ad775084",
   "metadata": {
    "execution": {
     "iopub.execute_input": "2023-04-09T15:33:12.433506Z",
     "iopub.status.busy": "2023-04-09T15:33:12.432656Z",
     "iopub.status.idle": "2023-04-09T15:33:12.440249Z",
     "shell.execute_reply": "2023-04-09T15:33:12.439156Z"
    },
    "papermill": {
     "duration": 0.019779,
     "end_time": "2023-04-09T15:33:12.442388",
     "exception": false,
     "start_time": "2023-04-09T15:33:12.422609",
     "status": "completed"
    },
    "tags": []
   },
   "outputs": [],
   "source": [
    "class MnistModel(nn.Module):\n",
    "    def __init__(self,in_size,hidden_size,out_size):\n",
    "        super().__init__()\n",
    "        #Hidden layer\n",
    "        self.linear1 = nn.Linear(in_size,hidden_size)\n",
    "        #Output layer\n",
    "        self.linear2 = nn.Linear(hidden_size,out_size)\n",
    "    def forward(self,xb):\n",
    "        #Flatten the image tensor\n",
    "        xb = xb.view(xb.size(0),-1)\n",
    "        #Pass the input through first layer\n",
    "        out = self.linear1(xb)\n",
    "        #Apply activation function\n",
    "        out = F.relu(out)\n",
    "        #Pass the output as a input to output layer\n",
    "        out = self.linear2(out)\n",
    "        return out\n",
    "    \n",
    "        \n",
    "        \n",
    "        "
   ]
  },
  {
   "cell_type": "code",
   "execution_count": null,
   "id": "325c17e5",
   "metadata": {
    "papermill": {
     "duration": 0.008881,
     "end_time": "2023-04-09T15:33:12.460686",
     "exception": false,
     "start_time": "2023-04-09T15:33:12.451805",
     "status": "completed"
    },
    "tags": []
   },
   "outputs": [],
   "source": []
  },
  {
   "cell_type": "markdown",
   "id": "e4cdd07c",
   "metadata": {
    "papermill": {
     "duration": 0.009518,
     "end_time": "2023-04-09T15:33:12.480021",
     "exception": false,
     "start_time": "2023-04-09T15:33:12.470503",
     "status": "completed"
    },
    "tags": []
   },
   "source": [
    "Let Create a Model with 64 activation"
   ]
  },
  {
   "cell_type": "code",
   "execution_count": 11,
   "id": "2e0de552",
   "metadata": {
    "execution": {
     "iopub.execute_input": "2023-04-09T15:33:12.500631Z",
     "iopub.status.busy": "2023-04-09T15:33:12.500341Z",
     "iopub.status.idle": "2023-04-09T15:33:12.513144Z",
     "shell.execute_reply": "2023-04-09T15:33:12.512194Z"
    },
    "papermill": {
     "duration": 0.025723,
     "end_time": "2023-04-09T15:33:12.515431",
     "exception": false,
     "start_time": "2023-04-09T15:33:12.489708",
     "status": "completed"
    },
    "tags": []
   },
   "outputs": [],
   "source": [
    "input_size = 784\n",
    "number_class = 10\n",
    "\n",
    "model = MnistModel(input_size,hidden_size = 64,out_size=number_class)\n"
   ]
  },
  {
   "cell_type": "code",
   "execution_count": null,
   "id": "084afaed",
   "metadata": {
    "papermill": {
     "duration": 0.009009,
     "end_time": "2023-04-09T15:33:12.533358",
     "exception": false,
     "start_time": "2023-04-09T15:33:12.524349",
     "status": "completed"
    },
    "tags": []
   },
   "outputs": [],
   "source": []
  },
  {
   "cell_type": "markdown",
   "id": "008a5825",
   "metadata": {
    "papermill": {
     "duration": 0.008703,
     "end_time": "2023-04-09T15:33:12.551594",
     "exception": false,
     "start_time": "2023-04-09T15:33:12.542891",
     "status": "completed"
    },
    "tags": []
   },
   "source": [
    "Print the weight and bias matrix for each of the layers"
   ]
  },
  {
   "cell_type": "code",
   "execution_count": 12,
   "id": "2223bfde",
   "metadata": {
    "execution": {
     "iopub.execute_input": "2023-04-09T15:33:12.571944Z",
     "iopub.status.busy": "2023-04-09T15:33:12.570473Z",
     "iopub.status.idle": "2023-04-09T15:33:12.576685Z",
     "shell.execute_reply": "2023-04-09T15:33:12.575301Z"
    },
    "papermill": {
     "duration": 0.018146,
     "end_time": "2023-04-09T15:33:12.578823",
     "exception": false,
     "start_time": "2023-04-09T15:33:12.560677",
     "status": "completed"
    },
    "tags": []
   },
   "outputs": [
    {
     "name": "stdout",
     "output_type": "stream",
     "text": [
      "torch.Size([64, 784])\n",
      "torch.Size([64])\n",
      "torch.Size([10, 64])\n",
      "torch.Size([10])\n"
     ]
    }
   ],
   "source": [
    "for t in model.parameters():\n",
    "    print(t.shape)"
   ]
  },
  {
   "cell_type": "markdown",
   "id": "50a94ca6",
   "metadata": {
    "papermill": {
     "duration": 0.00865,
     "end_time": "2023-04-09T15:33:12.596206",
     "exception": false,
     "start_time": "2023-04-09T15:33:12.587556",
     "status": "completed"
    },
    "tags": []
   },
   "source": [
    "Let, try to generate some output using our model"
   ]
  },
  {
   "cell_type": "code",
   "execution_count": 13,
   "id": "ca25d4a7",
   "metadata": {
    "execution": {
     "iopub.execute_input": "2023-04-09T15:33:12.616015Z",
     "iopub.status.busy": "2023-04-09T15:33:12.615241Z",
     "iopub.status.idle": "2023-04-09T15:33:12.790463Z",
     "shell.execute_reply": "2023-04-09T15:33:12.789299Z"
    },
    "papermill": {
     "duration": 0.187825,
     "end_time": "2023-04-09T15:33:12.792962",
     "exception": false,
     "start_time": "2023-04-09T15:33:12.605137",
     "status": "completed"
    },
    "tags": []
   },
   "outputs": [
    {
     "name": "stdout",
     "output_type": "stream",
     "text": [
      "Loss: 2.3346521854400635\n"
     ]
    }
   ],
   "source": [
    "for image,label in train_dl:\n",
    "    out = model(image)\n",
    "    loss = F.cross_entropy(out,label)\n",
    "    print(\"Loss:\",loss.item())\n",
    "    break\n",
    "    "
   ]
  },
  {
   "cell_type": "markdown",
   "id": "6e2f35a1",
   "metadata": {
    "papermill": {
     "duration": 0.009986,
     "end_time": "2023-04-09T15:33:12.813284",
     "exception": false,
     "start_time": "2023-04-09T15:33:12.803298",
     "status": "completed"
    },
    "tags": []
   },
   "source": [
    "# **Using a GPU**"
   ]
  },
  {
   "cell_type": "code",
   "execution_count": 14,
   "id": "0faf28ae",
   "metadata": {
    "execution": {
     "iopub.execute_input": "2023-04-09T15:33:12.835354Z",
     "iopub.status.busy": "2023-04-09T15:33:12.835006Z",
     "iopub.status.idle": "2023-04-09T15:33:12.936193Z",
     "shell.execute_reply": "2023-04-09T15:33:12.934980Z"
    },
    "papermill": {
     "duration": 0.115211,
     "end_time": "2023-04-09T15:33:12.938431",
     "exception": false,
     "start_time": "2023-04-09T15:33:12.823220",
     "status": "completed"
    },
    "tags": []
   },
   "outputs": [
    {
     "data": {
      "text/plain": [
       "True"
      ]
     },
     "execution_count": 14,
     "metadata": {},
     "output_type": "execute_result"
    }
   ],
   "source": [
    "torch.cuda.is_available()"
   ]
  },
  {
   "cell_type": "markdown",
   "id": "38d521ee",
   "metadata": {
    "papermill": {
     "duration": 0.009243,
     "end_time": "2023-04-09T15:33:12.956860",
     "exception": false,
     "start_time": "2023-04-09T15:33:12.947617",
     "status": "completed"
    },
    "tags": []
   },
   "source": [
    "Let's define a helper function to ensure that our code uses the GPU if available and defaults to using the CPU if it isn't. "
   ]
  },
  {
   "cell_type": "code",
   "execution_count": 15,
   "id": "b0b31ce8",
   "metadata": {
    "execution": {
     "iopub.execute_input": "2023-04-09T15:33:12.976730Z",
     "iopub.status.busy": "2023-04-09T15:33:12.976436Z",
     "iopub.status.idle": "2023-04-09T15:33:12.981607Z",
     "shell.execute_reply": "2023-04-09T15:33:12.980502Z"
    },
    "papermill": {
     "duration": 0.017693,
     "end_time": "2023-04-09T15:33:12.984019",
     "exception": false,
     "start_time": "2023-04-09T15:33:12.966326",
     "status": "completed"
    },
    "tags": []
   },
   "outputs": [],
   "source": [
    "\n",
    "def get_default_device():\n",
    "    if torch.cuda.is_available():\n",
    "        return torch.device('cuda')\n",
    "    else:\n",
    "        return torch.device('cpu')\n",
    "    "
   ]
  },
  {
   "cell_type": "code",
   "execution_count": 16,
   "id": "6b2d0946",
   "metadata": {
    "execution": {
     "iopub.execute_input": "2023-04-09T15:33:13.003190Z",
     "iopub.status.busy": "2023-04-09T15:33:13.002891Z",
     "iopub.status.idle": "2023-04-09T15:33:13.009841Z",
     "shell.execute_reply": "2023-04-09T15:33:13.008810Z"
    },
    "papermill": {
     "duration": 0.01903,
     "end_time": "2023-04-09T15:33:13.012011",
     "exception": false,
     "start_time": "2023-04-09T15:33:12.992981",
     "status": "completed"
    },
    "tags": []
   },
   "outputs": [
    {
     "data": {
      "text/plain": [
       "device(type='cuda')"
      ]
     },
     "execution_count": 16,
     "metadata": {},
     "output_type": "execute_result"
    }
   ],
   "source": [
    "device = get_default_device()\n",
    "device"
   ]
  },
  {
   "cell_type": "markdown",
   "id": "29f0b2a7",
   "metadata": {
    "papermill": {
     "duration": 0.008882,
     "end_time": "2023-04-09T15:33:13.029916",
     "exception": false,
     "start_time": "2023-04-09T15:33:13.021034",
     "status": "completed"
    },
    "tags": []
   },
   "source": [
    "Next, let's define a function that can move data and model to a chosen device."
   ]
  },
  {
   "cell_type": "code",
   "execution_count": 17,
   "id": "bbfb6163",
   "metadata": {
    "execution": {
     "iopub.execute_input": "2023-04-09T15:33:13.051256Z",
     "iopub.status.busy": "2023-04-09T15:33:13.050749Z",
     "iopub.status.idle": "2023-04-09T15:33:13.055918Z",
     "shell.execute_reply": "2023-04-09T15:33:13.054834Z"
    },
    "papermill": {
     "duration": 0.018907,
     "end_time": "2023-04-09T15:33:13.058309",
     "exception": false,
     "start_time": "2023-04-09T15:33:13.039402",
     "status": "completed"
    },
    "tags": []
   },
   "outputs": [],
   "source": [
    "#Move data to GPU\n",
    "def to_device(data,device):\n",
    "    if isinstance(data,(list,tuple)):\n",
    "        return [to_device(x,device) for x in data]\n",
    "    return data.to(device,non_blocking=True)\n"
   ]
  },
  {
   "cell_type": "markdown",
   "id": "3f123f02",
   "metadata": {
    "papermill": {
     "duration": 0.009098,
     "end_time": "2023-04-09T15:33:13.076496",
     "exception": false,
     "start_time": "2023-04-09T15:33:13.067398",
     "status": "completed"
    },
    "tags": []
   },
   "source": [
    "Finally,we define a DeviceDataLoader class to rap over exesting dataloader and move data to selected device"
   ]
  },
  {
   "cell_type": "code",
   "execution_count": 18,
   "id": "f0d645e7",
   "metadata": {
    "execution": {
     "iopub.execute_input": "2023-04-09T15:33:13.095798Z",
     "iopub.status.busy": "2023-04-09T15:33:13.095518Z",
     "iopub.status.idle": "2023-04-09T15:33:13.101446Z",
     "shell.execute_reply": "2023-04-09T15:33:13.100475Z"
    },
    "papermill": {
     "duration": 0.018292,
     "end_time": "2023-04-09T15:33:13.103843",
     "exception": false,
     "start_time": "2023-04-09T15:33:13.085551",
     "status": "completed"
    },
    "tags": []
   },
   "outputs": [],
   "source": [
    "class DeviceDataloader():\n",
    "    def __init__(self,dl,device):\n",
    "        self.dl = dl\n",
    "        self.device = device\n",
    "    def __iter__(self):\n",
    "        '''yield a batch of data after moving it to device'''\n",
    "        for b in self.dl:\n",
    "            yield to_device(b,self.device)\n",
    "    def __len__(self):\n",
    "        \"\"\"Number of batches\"\"\"\n",
    "        return len(self.dl)\n",
    "    "
   ]
  },
  {
   "cell_type": "code",
   "execution_count": 19,
   "id": "8d10e457",
   "metadata": {
    "execution": {
     "iopub.execute_input": "2023-04-09T15:33:13.123618Z",
     "iopub.status.busy": "2023-04-09T15:33:13.122742Z",
     "iopub.status.idle": "2023-04-09T15:33:13.127586Z",
     "shell.execute_reply": "2023-04-09T15:33:13.126704Z"
    },
    "papermill": {
     "duration": 0.016782,
     "end_time": "2023-04-09T15:33:13.129673",
     "exception": false,
     "start_time": "2023-04-09T15:33:13.112891",
     "status": "completed"
    },
    "tags": []
   },
   "outputs": [],
   "source": [
    "train_dl = DeviceDataloader(train_dl,device)\n",
    "valid_dl = DeviceDataloader(valid_dl,device)\n"
   ]
  },
  {
   "cell_type": "markdown",
   "id": "a9f2eb72",
   "metadata": {
    "papermill": {
     "duration": 0.008895,
     "end_time": "2023-04-09T15:33:13.147623",
     "exception": false,
     "start_time": "2023-04-09T15:33:13.138728",
     "status": "completed"
    },
    "tags": []
   },
   "source": [
    "# **Training**"
   ]
  },
  {
   "cell_type": "code",
   "execution_count": 20,
   "id": "920e12ea",
   "metadata": {
    "execution": {
     "iopub.execute_input": "2023-04-09T15:33:13.167654Z",
     "iopub.status.busy": "2023-04-09T15:33:13.166796Z",
     "iopub.status.idle": "2023-04-09T15:33:13.173714Z",
     "shell.execute_reply": "2023-04-09T15:33:13.172584Z"
    },
    "papermill": {
     "duration": 0.019496,
     "end_time": "2023-04-09T15:33:13.176234",
     "exception": false,
     "start_time": "2023-04-09T15:33:13.156738",
     "status": "completed"
    },
    "tags": []
   },
   "outputs": [],
   "source": [
    "\n",
    "def loss_batch(model,loss_fn,xb,yb,opt=None,metric = None):\n",
    "    #Generate Prediction\n",
    "    preds = model(xb)\n",
    "    #Calculate the loss\n",
    "    loss = loss_fn(preds,yb)\n",
    "    if opt is not None:\n",
    "        #Compute gradient\n",
    "        loss.backward()\n",
    "        #Update Parameters\n",
    "        opt.step()\n",
    "        #Reset gradient\n",
    "        opt.zero_grad()\n",
    "    metric_result = None\n",
    "    if metric is not None:\n",
    "        metric_result = metric(preds,yb)\n",
    "    return loss.item(), len(xb),metric_result\n",
    "  \n",
    " \n",
    "  "
   ]
  },
  {
   "cell_type": "code",
   "execution_count": 21,
   "id": "25155b16",
   "metadata": {
    "execution": {
     "iopub.execute_input": "2023-04-09T15:33:13.199079Z",
     "iopub.status.busy": "2023-04-09T15:33:13.198249Z",
     "iopub.status.idle": "2023-04-09T15:33:13.205421Z",
     "shell.execute_reply": "2023-04-09T15:33:13.204527Z"
    },
    "papermill": {
     "duration": 0.020898,
     "end_time": "2023-04-09T15:33:13.207913",
     "exception": false,
     "start_time": "2023-04-09T15:33:13.187015",
     "status": "completed"
    },
    "tags": []
   },
   "outputs": [],
   "source": [
    "def evaluate(model,loss_fn,valid_dl,metric=None):\n",
    "    with torch.no_grad():\n",
    "       #Pass each batch through the model\n",
    "        result = [loss_batch(model, loss_fn,xb,yb,metric=metric) for xb,yb in valid_dl]\n",
    "        #separete losses, counts and metrics\n",
    "        losses, nums, metrics = zip(*result)\n",
    "        #Total size of the dataset\n",
    "        total = np.sum(nums)\n",
    "        avg_loss = np.sum(np.multiply(losses,nums))/total\n",
    "        avg_metric = None\n",
    "        if metric is not None:\n",
    "            avg_metric = np.sum(np.multiply(metrics,nums))/total\n",
    "    return avg_loss,total, avg_metric   "
   ]
  },
  {
   "cell_type": "code",
   "execution_count": 22,
   "id": "f77f1fe0",
   "metadata": {
    "execution": {
     "iopub.execute_input": "2023-04-09T15:33:13.228603Z",
     "iopub.status.busy": "2023-04-09T15:33:13.228249Z",
     "iopub.status.idle": "2023-04-09T15:33:13.233393Z",
     "shell.execute_reply": "2023-04-09T15:33:13.232334Z"
    },
    "papermill": {
     "duration": 0.017954,
     "end_time": "2023-04-09T15:33:13.235586",
     "exception": false,
     "start_time": "2023-04-09T15:33:13.217632",
     "status": "completed"
    },
    "tags": []
   },
   "outputs": [],
   "source": [
    "def accuracy(outputs,labels):\n",
    "    _, pred = torch.max(outputs,dim=1)\n",
    "    return torch.sum(pred==labels).item()/len(pred)"
   ]
  },
  {
   "cell_type": "code",
   "execution_count": 23,
   "id": "2cafbb5b",
   "metadata": {
    "execution": {
     "iopub.execute_input": "2023-04-09T15:33:13.256615Z",
     "iopub.status.busy": "2023-04-09T15:33:13.255700Z",
     "iopub.status.idle": "2023-04-09T15:33:13.264006Z",
     "shell.execute_reply": "2023-04-09T15:33:13.263034Z"
    },
    "papermill": {
     "duration": 0.020924,
     "end_time": "2023-04-09T15:33:13.266157",
     "exception": false,
     "start_time": "2023-04-09T15:33:13.245233",
     "status": "completed"
    },
    "tags": []
   },
   "outputs": [],
   "source": [
    "def fit(epoches,lr,model, loss_fn, train_dl, valid_dl,opt_fun=None, metric=None):\n",
    "    losses,metrics =  [], []\n",
    "\n",
    "    if opt_fun==None:\n",
    "        opt_fun = torch.optim.SGD\n",
    "    opt = opt_fun(model.parameters(),lr=lr)    \n",
    "    for epoch in range(epoches):\n",
    "        #Training\n",
    "        for xb,yb in train_dl:\n",
    "            loss,_,_ = loss_batch(model,loss_fn,xb,yb,opt)\n",
    "        #Evaluation\n",
    "        result = evaluate(model,loss_fn, valid_dl,metric)\n",
    "        val_loss, total , val_metric = result\n",
    "        #Record the loss and metric\n",
    "        losses.append(val_loss)\n",
    "        metrics.append(val_metric)\n",
    "        #Print progress\n",
    "        if metric is None:\n",
    "            print('Epoch[{}/{}],loss: {:.4f}'.format(epoch+1,epoches,val_loss))   \n",
    "        else:\n",
    "            print('Epoch [{}/{}], Loss: {:.4f}, {}: {:.4f}'.format(epoch+1,epoches,val_loss,metric.__name__,val_metric))\n",
    "     \n",
    "    return losses,metrics\n",
    "     \n",
    "    \n",
    "  "
   ]
  },
  {
   "cell_type": "code",
   "execution_count": 24,
   "id": "736037a9",
   "metadata": {
    "execution": {
     "iopub.execute_input": "2023-04-09T15:33:13.286065Z",
     "iopub.status.busy": "2023-04-09T15:33:13.285807Z",
     "iopub.status.idle": "2023-04-09T15:33:16.136824Z",
     "shell.execute_reply": "2023-04-09T15:33:16.135721Z"
    },
    "papermill": {
     "duration": 2.863732,
     "end_time": "2023-04-09T15:33:16.139152",
     "exception": false,
     "start_time": "2023-04-09T15:33:13.275420",
     "status": "completed"
    },
    "tags": []
   },
   "outputs": [
    {
     "data": {
      "text/plain": [
       "MnistModel(\n",
       "  (linear1): Linear(in_features=784, out_features=128, bias=True)\n",
       "  (linear2): Linear(in_features=128, out_features=10, bias=True)\n",
       ")"
      ]
     },
     "execution_count": 24,
     "metadata": {},
     "output_type": "execute_result"
    }
   ],
   "source": [
    "#Train the model on GPU\n",
    "\n",
    "model = MnistModel(input_size,hidden_size=128,out_size = number_class)\n",
    "to_device(model,device)"
   ]
  },
  {
   "cell_type": "markdown",
   "id": "60c8245e",
   "metadata": {
    "papermill": {
     "duration": 0.009231,
     "end_time": "2023-04-09T15:33:16.157920",
     "exception": false,
     "start_time": "2023-04-09T15:33:16.148689",
     "status": "completed"
    },
    "tags": []
   },
   "source": [
    "Train the model with 5 epoches and 0.5 learning rate"
   ]
  },
  {
   "cell_type": "code",
   "execution_count": 25,
   "id": "753060ea",
   "metadata": {
    "execution": {
     "iopub.execute_input": "2023-04-09T15:33:16.178891Z",
     "iopub.status.busy": "2023-04-09T15:33:16.177247Z",
     "iopub.status.idle": "2023-04-09T15:33:49.701645Z",
     "shell.execute_reply": "2023-04-09T15:33:49.697111Z"
    },
    "papermill": {
     "duration": 33.545779,
     "end_time": "2023-04-09T15:33:49.712924",
     "exception": false,
     "start_time": "2023-04-09T15:33:16.167145",
     "status": "completed"
    },
    "tags": []
   },
   "outputs": [
    {
     "name": "stdout",
     "output_type": "stream",
     "text": [
      "Epoch [1/5], Loss: 0.1845, accuracy: 0.9473\n",
      "Epoch [2/5], Loss: 0.1328, accuracy: 0.9613\n",
      "Epoch [3/5], Loss: 0.1201, accuracy: 0.9645\n",
      "Epoch [4/5], Loss: 0.0988, accuracy: 0.9694\n",
      "Epoch [5/5], Loss: 0.0881, accuracy: 0.9731\n"
     ]
    }
   ],
   "source": [
    "losses1,metices1 = fit(5,0.5, model, F.cross_entropy,train_dl,valid_dl,None,accuracy)"
   ]
  },
  {
   "cell_type": "markdown",
   "id": "f68710d8",
   "metadata": {
    "papermill": {
     "duration": 0.010658,
     "end_time": "2023-04-09T15:33:49.734367",
     "exception": false,
     "start_time": "2023-04-09T15:33:49.723709",
     "status": "completed"
    },
    "tags": []
   },
   "source": [
    "Let's see how the model performs on the validation set with the initial set of weights and biases."
   ]
  },
  {
   "cell_type": "markdown",
   "id": "c8d3b003",
   "metadata": {
    "papermill": {
     "duration": 0.010761,
     "end_time": "2023-04-09T15:33:49.755949",
     "exception": false,
     "start_time": "2023-04-09T15:33:49.745188",
     "status": "completed"
    },
    "tags": []
   },
   "source": [
    "Train the model with 10 epoches with 0.00001 learning rates"
   ]
  },
  {
   "cell_type": "code",
   "execution_count": 26,
   "id": "5ea606d1",
   "metadata": {
    "execution": {
     "iopub.execute_input": "2023-04-09T15:33:49.778515Z",
     "iopub.status.busy": "2023-04-09T15:33:49.778173Z",
     "iopub.status.idle": "2023-04-09T15:35:56.951519Z",
     "shell.execute_reply": "2023-04-09T15:35:56.950403Z"
    },
    "papermill": {
     "duration": 127.197635,
     "end_time": "2023-04-09T15:35:56.964352",
     "exception": false,
     "start_time": "2023-04-09T15:33:49.766717",
     "status": "completed"
    },
    "tags": []
   },
   "outputs": [
    {
     "name": "stdout",
     "output_type": "stream",
     "text": [
      "Epoch [1/20], Loss: 0.0881, accuracy: 0.9731\n",
      "Epoch [2/20], Loss: 0.0880, accuracy: 0.9731\n",
      "Epoch [3/20], Loss: 0.0880, accuracy: 0.9731\n",
      "Epoch [4/20], Loss: 0.0880, accuracy: 0.9731\n",
      "Epoch [5/20], Loss: 0.0880, accuracy: 0.9731\n",
      "Epoch [6/20], Loss: 0.0880, accuracy: 0.9731\n",
      "Epoch [7/20], Loss: 0.0880, accuracy: 0.9731\n",
      "Epoch [8/20], Loss: 0.0880, accuracy: 0.9731\n",
      "Epoch [9/20], Loss: 0.0879, accuracy: 0.9731\n",
      "Epoch [10/20], Loss: 0.0879, accuracy: 0.9732\n",
      "Epoch [11/20], Loss: 0.0879, accuracy: 0.9732\n",
      "Epoch [12/20], Loss: 0.0879, accuracy: 0.9732\n",
      "Epoch [13/20], Loss: 0.0879, accuracy: 0.9733\n",
      "Epoch [14/20], Loss: 0.0879, accuracy: 0.9733\n",
      "Epoch [15/20], Loss: 0.0879, accuracy: 0.9735\n",
      "Epoch [16/20], Loss: 0.0878, accuracy: 0.9735\n",
      "Epoch [17/20], Loss: 0.0878, accuracy: 0.9736\n",
      "Epoch [18/20], Loss: 0.0878, accuracy: 0.9736\n",
      "Epoch [19/20], Loss: 0.0878, accuracy: 0.9736\n",
      "Epoch [20/20], Loss: 0.0878, accuracy: 0.9736\n"
     ]
    }
   ],
   "source": [
    "losses2,metices2 = fit(20,0.00001, model, F.cross_entropy,train_dl,valid_dl,None,accuracy)"
   ]
  },
  {
   "cell_type": "markdown",
   "id": "e07ec8b9",
   "metadata": {
    "papermill": {
     "duration": 0.010199,
     "end_time": "2023-04-09T15:35:56.985044",
     "exception": false,
     "start_time": "2023-04-09T15:35:56.974845",
     "status": "completed"
    },
    "tags": []
   },
   "source": [
    "Plot the accuracy"
   ]
  },
  {
   "cell_type": "code",
   "execution_count": 27,
   "id": "3c2bcd15",
   "metadata": {
    "execution": {
     "iopub.execute_input": "2023-04-09T15:35:57.008567Z",
     "iopub.status.busy": "2023-04-09T15:35:57.007572Z",
     "iopub.status.idle": "2023-04-09T15:35:57.222728Z",
     "shell.execute_reply": "2023-04-09T15:35:57.221729Z"
    },
    "papermill": {
     "duration": 0.229271,
     "end_time": "2023-04-09T15:35:57.225138",
     "exception": false,
     "start_time": "2023-04-09T15:35:56.995867",
     "status": "completed"
    },
    "tags": []
   },
   "outputs": [
    {
     "data": {
      "text/plain": [
       "Text(0.5, 1.0, 'Accuracy Vs Epoch')"
      ]
     },
     "execution_count": 27,
     "metadata": {},
     "output_type": "execute_result"
    },
    {
     "data": {
      "image/png": "[encoded data removed]",
      "text/plain": [
       "<Figure size 640x480 with 1 Axes>"
      ]
     },
     "metadata": {},
     "output_type": "display_data"
    }
   ],
   "source": [
    "accuracies =metices1+metices2\n",
    "plt.plot(accuracies,'-x')\n",
    "plt.xlabel('Epoch')\n",
    "plt.ylabel('Accuracy')\n",
    "plt.title(\"Accuracy Vs Epoch\")"
   ]
  },
  {
   "cell_type": "markdown",
   "id": "542eea8e",
   "metadata": {
    "papermill": {
     "duration": 0.011298,
     "end_time": "2023-04-09T15:35:57.248284",
     "exception": false,
     "start_time": "2023-04-09T15:35:57.236986",
     "status": "completed"
    },
    "tags": []
   },
   "source": []
  },
  {
   "cell_type": "markdown",
   "id": "98765833",
   "metadata": {
    "papermill": {
     "duration": 0.011448,
     "end_time": "2023-04-09T15:35:57.271022",
     "exception": false,
     "start_time": "2023-04-09T15:35:57.259574",
     "status": "completed"
    },
    "tags": []
   },
   "source": [
    "Plot the loss Vs Epoch graph"
   ]
  }
 ],
 "metadata": {
  "kernelspec": {
   "display_name": "Python 3",
   "language": "python",
   "name": "python3"
  },
  "language_info": {
   "codemirror_mode": {
    "name": "ipython",
    "version": 3
   },
   "file_extension": ".py",
   "mimetype": "text/x-python",
   "name": "python",
   "nbconvert_exporter": "python",
   "pygments_lexer": "ipython3",
   "version": "3.7.12"
  },
  "papermill": {
   "default_parameters": {},
   "duration": 180.308293,
   "end_time": "2023-04-09T15:35:58.607102",
   "environment_variables": {},
   "exception": null,
   "input_path": "__notebook__.ipynb",
   "output_path": "__notebook__.ipynb",
   "parameters": {},
   "start_time": "2023-04-09T15:32:58.298809",
   "version": "2.4.0"
  },
  "widgets": {
   "application/vnd.jupyter.widget-state+json": {
    "state": {
     "007e1552de384911a6c020829ef4ecea": {
      "model_module": "@jupyter-widgets/controls",
      "model_module_version": "1.5.0",
      "model_name": "DescriptionStyleModel",
      "state": {
       "_model_module": "@jupyter-widgets/controls",
       "_model_module_version": "1.5.0",
       "_model_name": "DescriptionStyleModel",
       "_view_count": null,
       "_view_module": "@jupyter-widgets/base",
       "_view_module_version": "1.2.0",
       "_view_name": "StyleView",
       "description_width": ""
      }
     },
     "0beb343d277d4e7ab9fae8604f7b0804": {
      "model_module": "@jupyter-widgets/controls",
      "model_module_version": "1.5.0",
      "model_name": "DescriptionStyleModel",
      "state": {
       "_model_module": "@jupyter-widgets/controls",
       "_model_module_version": "1.5.0",
       "_model_name": "DescriptionStyleModel",
       "_view_count": null,
       "_view_module": "@jupyter-widgets/base",
       "_view_module_version": "1.2.0",
       "_view_name": "StyleView",
       "description_width": ""
      }
     },
     "13d9b2544e244fab919c8430a33be380": {
      "model_module": "@jupyter-widgets/controls",
      "model_module_version": "1.5.0",
      "model_name": "HTMLModel",
      "state": {
       "_dom_classes": [],
       "_model_module": "@jupyter-widgets/controls",
       "_model_module_version": "1.5.0",
       "_model_name": "HTMLModel",
       "_view_count": null,
       "_view_module": "@jupyter-widgets/controls",
       "_view_module_version": "1.5.0",
       "_view_name": "HTMLView",
       "description": "",
       "description_tooltip": null,
       "layout": "IPY_MODEL_2a366e1e62b84f66acbc67be30e4827b",
       "placeholder": "​",
       "style": "IPY_MODEL_9624c295944349c8baceefd69a3dafa0",
       "value": " 4542/4542 [00:00&lt;00:00, 348362.08it/s]"
      }
     },
     "1ae074b0dbfa4bddb96e85cb691a3d4e": {
      "model_module": "@jupyter-widgets/controls",
      "model_module_version": "1.5.0",
      "model_name": "HTMLModel",
      "state": {
       "_dom_classes": [],
       "_model_module": "@jupyter-widgets/controls",
       "_model_module_version": "1.5.0",
       "_model_name": "HTMLModel",
       "_view_count": null,
       "_view_module": "@jupyter-widgets/controls",
       "_view_module_version": "1.5.0",
       "_view_name": "HTMLView",
       "description": "",
       "description_tooltip": null,
       "layout": "IPY_MODEL_9b78c584f4294c7ebe1549d4bb3e2416",
       "placeholder": "​",
       "style": "IPY_MODEL_7bce72158bcc42a0aedc7cfbc9334900",
       "value": "100%"
      }
     },
     "1d7bdfc1ed7b4aaa8b63d6a52c493fbd": {
      "model_module": "@jupyter-widgets/base",
      "model_module_version": "1.2.0",
      "model_name": "LayoutModel",
      "state": {
       "_model_module": "@jupyter-widgets/base",
       "_model_module_version": "1.2.0",
       "_model_name": "LayoutModel",
       "_view_count": null,
       "_view_module": "@jupyter-widgets/base",
       "_view_module_version": "1.2.0",
       "_view_name": "LayoutView",
       "align_content": null,
       "align_items": null,
       "align_self": null,
       "border": null,
       "bottom": null,
       "display": null,
       "flex": null,
       "flex_flow": null,
       "grid_area": null,
       "grid_auto_columns": null,
       "grid_auto_flow": null,
       "grid_auto_rows": null,
       "grid_column": null,
       "grid_gap": null,
       "grid_row": null,
       "grid_template_areas": null,
       "grid_template_columns": null,
       "grid_template_rows": null,
       "height": null,
       "justify_content": null,
       "justify_items": null,
       "left": null,
       "margin": null,
       "max_height": null,
       "max_width": null,
       "min_height": null,
       "min_width": null,
       "object_fit": null,
       "object_position": null,
       "order": null,
       "overflow": null,
       "overflow_x": null,
       "overflow_y": null,
       "padding": null,
       "right": null,
       "top": null,
       "visibility": null,
       "width": null
      }
     },
     "1f4aed24007945e6830d5b1220db7560": {
      "model_module": "@jupyter-widgets/base",
      "model_module_version": "1.2.0",
      "model_name": "LayoutModel",
      "state": {
       "_model_module": "@jupyter-widgets/base",
       "_model_module_version": "1.2.0",
       "_model_name": "LayoutModel",
       "_view_count": null,
       "_view_module": "@jupyter-widgets/base",
       "_view_module_version": "1.2.0",
       "_view_name": "LayoutView",
       "align_content": null,
       "align_items": null,
       "align_self": null,
       "border": null,
       "bottom": null,
       "display": null,
       "flex": null,
       "flex_flow": null,
       "grid_area": null,
       "grid_auto_columns": null,
       "grid_auto_flow": null,
       "grid_auto_rows": null,
       "grid_column": null,
       "grid_gap": null,
       "grid_row": null,
       "grid_template_areas": null,
       "grid_template_columns": null,
       "grid_template_rows": null,
       "height": null,
       "justify_content": null,
       "justify_items": null,
       "left": null,
       "margin": null,
       "max_height": null,
       "max_width": null,
       "min_height": null,
       "min_width": null,
       "object_fit": null,
       "object_position": null,
       "order": null,
       "overflow": null,
       "overflow_x": null,
       "overflow_y": null,
       "padding": null,
       "right": null,
       "top": null,
       "visibility": null,
       "width": null
      }
     },
     "2a366e1e62b84f66acbc67be30e4827b": {
      "model_module": "@jupyter-widgets/base",
      "model_module_version": "1.2.0",
      "model_name": "LayoutModel",
      "state": {
       "_model_module": "@jupyter-widgets/base",
       "_model_module_version": "1.2.0",
       "_model_name": "LayoutModel",
       "_view_count": null,
       "_view_module": "@jupyter-widgets/base",
       "_view_module_version": "1.2.0",
       "_view_name": "LayoutView",
       "align_content": null,
       "align_items": null,
       "align_self": null,
       "border": null,
       "bottom": null,
       "display": null,
       "flex": null,
       "flex_flow": null,
       "grid_area": null,
       "grid_auto_columns": null,
       "grid_auto_flow": null,
       "grid_auto_rows": null,
       "grid_column": null,
       "grid_gap": null,
       "grid_row": null,
       "grid_template_areas": null,
       "grid_template_columns": null,
       "grid_template_rows": null,
       "height": null,
       "justify_content": null,
       "justify_items": null,
       "left": null,
       "margin": null,
       "max_height": null,
       "max_width": null,
       "min_height": null,
       "min_width": null,
       "object_fit": null,
       "object_position": null,
       "order": null,
       "overflow": null,
       "overflow_x": null,
       "overflow_y": null,
       "padding": null,
       "right": null,
       "top": null,
       "visibility": null,
       "width": null
      }
     },
     "2c55acb6fe854d61a4e9bf0fa7dcb33e": {
      "model_module": "@jupyter-widgets/base",
      "model_module_version": "1.2.0",
      "model_name": "LayoutModel",
      "state": {
       "_model_module": "@jupyter-widgets/base",
       "_model_module_version": "1.2.0",
       "_model_name": "LayoutModel",
       "_view_count": null,
       "_view_module": "@jupyter-widgets/base",
       "_view_module_version": "1.2.0",
       "_view_name": "LayoutView",
       "align_content": null,
       "align_items": null,
       "align_self": null,
       "border": null,
       "bottom": null,
       "display": null,
       "flex": null,
       "flex_flow": null,
       "grid_area": null,
       "grid_auto_columns": null,
       "grid_auto_flow": null,
       "grid_auto_rows": null,
       "grid_column": null,
       "grid_gap": null,
       "grid_row": null,
       "grid_template_areas": null,
       "grid_template_columns": null,
       "grid_template_rows": null,
       "height": null,
       "justify_content": null,
       "justify_items": null,
       "left": null,
       "margin": null,
       "max_height": null,
       "max_width": null,
       "min_height": null,
       "min_width": null,
       "object_fit": null,
       "object_position": null,
       "order": null,
       "overflow": null,
       "overflow_x": null,
       "overflow_y": null,
       "padding": null,
       "right": null,
       "top": null,
       "visibility": null,
       "width": null
      }
     },
     "310a01b2175c4ef99b4ae10565c868aa": {
      "model_module": "@jupyter-widgets/controls",
      "model_module_version": "1.5.0",
      "model_name": "ProgressStyleModel",
      "state": {
       "_model_module": "@jupyter-widgets/controls",
       "_model_module_version": "1.5.0",
       "_model_name": "ProgressStyleModel",
       "_view_count": null,
       "_view_module": "@jupyter-widgets/base",
       "_view_module_version": "1.2.0",
       "_view_name": "StyleView",
       "bar_color": null,
       "description_width": ""
      }
     },
     "32de293ca95d48f5bb672192198537ee": {
      "model_module": "@jupyter-widgets/controls",
      "model_module_version": "1.5.0",
      "model_name": "HBoxModel",
      "state": {
       "_dom_classes": [],
       "_model_module": "@jupyter-widgets/controls",
       "_model_module_version": "1.5.0",
       "_model_name": "HBoxModel",
       "_view_count": null,
       "_view_module": "@jupyter-widgets/controls",
       "_view_module_version": "1.5.0",
       "_view_name": "HBoxView",
       "box_style": "",
       "children": [
        "IPY_MODEL_dd89884367814456abe01c7b7acdbaf0",
        "IPY_MODEL_390de90168f3406fb9cd4cee0442ef0b",
        "IPY_MODEL_5c05d50d6c9749b0a742458ad2a01ebd"
       ],
       "layout": "IPY_MODEL_1d7bdfc1ed7b4aaa8b63d6a52c493fbd"
      }
     },
     "34b07df2806445b39a5b69925d0a16cd": {
      "model_module": "@jupyter-widgets/base",
      "model_module_version": "1.2.0",
      "model_name": "LayoutModel",
      "state": {
       "_model_module": "@jupyter-widgets/base",
       "_model_module_version": "1.2.0",
       "_model_name": "LayoutModel",
       "_view_count": null,
       "_view_module": "@jupyter-widgets/base",
       "_view_module_version": "1.2.0",
       "_view_name": "LayoutView",
       "align_content": null,
       "align_items": null,
       "align_self": null,
       "border": null,
       "bottom": null,
       "display": null,
       "flex": null,
       "flex_flow": null,
       "grid_area": null,
       "grid_auto_columns": null,
       "grid_auto_flow": null,
       "grid_auto_rows": null,
       "grid_column": null,
       "grid_gap": null,
       "grid_row": null,
       "grid_template_areas": null,
       "grid_template_columns": null,
       "grid_template_rows": null,
       "height": null,
       "justify_content": null,
       "justify_items": null,
       "left": null,
       "margin": null,
       "max_height": null,
       "max_width": null,
       "min_height": null,
       "min_width": null,
       "object_fit": null,
       "object_position": null,
       "order": null,
       "overflow": null,
       "overflow_x": null,
       "overflow_y": null,
       "padding": null,
       "right": null,
       "top": null,
       "visibility": null,
       "width": null
      }
     },
     "372b1de6e7274e8b9f8d149b97e4b754": {
      "model_module": "@jupyter-widgets/base",
      "model_module_version": "1.2.0",
      "model_name": "LayoutModel",
      "state": {
       "_model_module": "@jupyter-widgets/base",
       "_model_module_version": "1.2.0",
       "_model_name": "LayoutModel",
       "_view_count": null,
       "_view_module": "@jupyter-widgets/base",
       "_view_module_version": "1.2.0",
       "_view_name": "LayoutView",
       "align_content": null,
       "align_items": null,
       "align_self": null,
       "border": null,
       "bottom": null,
       "display": null,
       "flex": null,
       "flex_flow": null,
       "grid_area": null,
       "grid_auto_columns": null,
       "grid_auto_flow": null,
       "grid_auto_rows": null,
       "grid_column": null,
       "grid_gap": null,
       "grid_row": null,
       "grid_template_areas": null,
       "grid_template_columns": null,
       "grid_template_rows": null,
       "height": null,
       "justify_content": null,
       "justify_items": null,
       "left": null,
       "margin": null,
       "max_height": null,
       "max_width": null,
       "min_height": null,
       "min_width": null,
       "object_fit": null,
       "object_position": null,
       "order": null,
       "overflow": null,
       "overflow_x": null,
       "overflow_y": null,
       "padding": null,
       "right": null,
       "top": null,
       "visibility": null,
       "width": null
      }
     },
     "390de90168f3406fb9cd4cee0442ef0b": {
      "model_module": "@jupyter-widgets/controls",
      "model_module_version": "1.5.0",
      "model_name": "FloatProgressModel",
      "state": {
       "_dom_classes": [],
       "_model_module": "@jupyter-widgets/controls",
       "_model_module_version": "1.5.0",
       "_model_name": "FloatProgressModel",
       "_view_count": null,
       "_view_module": "@jupyter-widgets/controls",
       "_view_module_version": "1.5.0",
       "_view_name": "ProgressView",
       "bar_style": "success",
       "description": "",
       "description_tooltip": null,
       "layout": "IPY_MODEL_2c55acb6fe854d61a4e9bf0fa7dcb33e",
       "max": 9912422.0,
       "min": 0.0,
       "orientation": "horizontal",
       "style": "IPY_MODEL_8174ad494004495d93f90237fad5e0fc",
       "value": 9912422.0
      }
     },
     "3d3952e5f829420182b940c2d5e0c4ab": {
      "model_module": "@jupyter-widgets/controls",
      "model_module_version": "1.5.0",
      "model_name": "FloatProgressModel",
      "state": {
       "_dom_classes": [],
       "_model_module": "@jupyter-widgets/controls",
       "_model_module_version": "1.5.0",
       "_model_name": "FloatProgressModel",
       "_view_count": null,
       "_view_module": "@jupyter-widgets/controls",
       "_view_module_version": "1.5.0",
       "_view_name": "ProgressView",
       "bar_style": "success",
       "description": "",
       "description_tooltip": null,
       "layout": "IPY_MODEL_e5fe1aba434140029240926a00ad8aed",
       "max": 28881.0,
       "min": 0.0,
       "orientation": "horizontal",
       "style": "IPY_MODEL_310a01b2175c4ef99b4ae10565c868aa",
       "value": 28881.0
      }
     },
     "3d42db12182a44ac9bc91f6117c6434f": {
      "model_module": "@jupyter-widgets/controls",
      "model_module_version": "1.5.0",
      "model_name": "FloatProgressModel",
      "state": {
       "_dom_classes": [],
       "_model_module": "@jupyter-widgets/controls",
       "_model_module_version": "1.5.0",
       "_model_name": "FloatProgressModel",
       "_view_count": null,
       "_view_module": "@jupyter-widgets/controls",
       "_view_module_version": "1.5.0",
       "_view_name": "ProgressView",
       "bar_style": "success",
       "description": "",
       "description_tooltip": null,
       "layout": "IPY_MODEL_494cc777e950419f8de7e3feba4891bc",
       "max": 4542.0,
       "min": 0.0,
       "orientation": "horizontal",
       "style": "IPY_MODEL_8dad09c0bfa6421ba36a13917924d16a",
       "value": 4542.0
      }
     },
     "3d9f66d9cea6483b95f2bc4fc5f9b525": {
      "model_module": "@jupyter-widgets/controls",
      "model_module_version": "1.5.0",
      "model_name": "DescriptionStyleModel",
      "state": {
       "_model_module": "@jupyter-widgets/controls",
       "_model_module_version": "1.5.0",
       "_model_name": "DescriptionStyleModel",
       "_view_count": null,
       "_view_module": "@jupyter-widgets/base",
       "_view_module_version": "1.2.0",
       "_view_name": "StyleView",
       "description_width": ""
      }
     },
     "4689e37748644c84ad4e07e766fd20b2": {
      "model_module": "@jupyter-widgets/controls",
      "model_module_version": "1.5.0",
      "model_name": "HTMLModel",
      "state": {
       "_dom_classes": [],
       "_model_module": "@jupyter-widgets/controls",
       "_model_module_version": "1.5.0",
       "_model_name": "HTMLModel",
       "_view_count": null,
       "_view_module": "@jupyter-widgets/controls",
       "_view_module_version": "1.5.0",
       "_view_name": "HTMLView",
       "description": "",
       "description_tooltip": null,
       "layout": "IPY_MODEL_34b07df2806445b39a5b69925d0a16cd",
       "placeholder": "​",
       "style": "IPY_MODEL_007e1552de384911a6c020829ef4ecea",
       "value": " 28881/28881 [00:00&lt;00:00, 2163871.56it/s]"
      }
     },
     "494cc777e950419f8de7e3feba4891bc": {
      "model_module": "@jupyter-widgets/base",
      "model_module_version": "1.2.0",
      "model_name": "LayoutModel",
      "state": {
       "_model_module": "@jupyter-widgets/base",
       "_model_module_version": "1.2.0",
       "_model_name": "LayoutModel",
       "_view_count": null,
       "_view_module": "@jupyter-widgets/base",
       "_view_module_version": "1.2.0",
       "_view_name": "LayoutView",
       "align_content": null,
       "align_items": null,
       "align_self": null,
       "border": null,
       "bottom": null,
       "display": null,
       "flex": null,
       "flex_flow": null,
       "grid_area": null,
       "grid_auto_columns": null,
       "grid_auto_flow": null,
       "grid_auto_rows": null,
       "grid_column": null,
       "grid_gap": null,
       "grid_row": null,
       "grid_template_areas": null,
       "grid_template_columns": null,
       "grid_template_rows": null,
       "height": null,
       "justify_content": null,
       "justify_items": null,
       "left": null,
       "margin": null,
       "max_height": null,
       "max_width": null,
       "min_height": null,
       "min_width": null,
       "object_fit": null,
       "object_position": null,
       "order": null,
       "overflow": null,
       "overflow_x": null,
       "overflow_y": null,
       "padding": null,
       "right": null,
       "top": null,
       "visibility": null,
       "width": null
      }
     },
     "5a5f356e8fcf416787ff627592551ebc": {
      "model_module": "@jupyter-widgets/base",
      "model_module_version": "1.2.0",
      "model_name": "LayoutModel",
      "state": {
       "_model_module": "@jupyter-widgets/base",
       "_model_module_version": "1.2.0",
       "_model_name": "LayoutModel",
       "_view_count": null,
       "_view_module": "@jupyter-widgets/base",
       "_view_module_version": "1.2.0",
       "_view_name": "LayoutView",
       "align_content": null,
       "align_items": null,
       "align_self": null,
       "border": null,
       "bottom": null,
       "display": null,
       "flex": null,
       "flex_flow": null,
       "grid_area": null,
       "grid_auto_columns": null,
       "grid_auto_flow": null,
       "grid_auto_rows": null,
       "grid_column": null,
       "grid_gap": null,
       "grid_row": null,
       "grid_template_areas": null,
       "grid_template_columns": null,
       "grid_template_rows": null,
       "height": null,
       "justify_content": null,
       "justify_items": null,
       "left": null,
       "margin": null,
       "max_height": null,
       "max_width": null,
       "min_height": null,
       "min_width": null,
       "object_fit": null,
       "object_position": null,
       "order": null,
       "overflow": null,
       "overflow_x": null,
       "overflow_y": null,
       "padding": null,
       "right": null,
       "top": null,
       "visibility": null,
       "width": null
      }
     },
     "5a85a5da3c574d3080cc6e374cee772c": {
      "model_module": "@jupyter-widgets/controls",
      "model_module_version": "1.5.0",
      "model_name": "DescriptionStyleModel",
      "state": {
       "_model_module": "@jupyter-widgets/controls",
       "_model_module_version": "1.5.0",
       "_model_name": "DescriptionStyleModel",
       "_view_count": null,
       "_view_module": "@jupyter-widgets/base",
       "_view_module_version": "1.2.0",
       "_view_name": "StyleView",
       "description_width": ""
      }
     },
     "5c05d50d6c9749b0a742458ad2a01ebd": {
      "model_module": "@jupyter-widgets/controls",
      "model_module_version": "1.5.0",
      "model_name": "HTMLModel",
      "state": {
       "_dom_classes": [],
       "_model_module": "@jupyter-widgets/controls",
       "_model_module_version": "1.5.0",
       "_model_name": "HTMLModel",
       "_view_count": null,
       "_view_module": "@jupyter-widgets/controls",
       "_view_module_version": "1.5.0",
       "_view_name": "HTMLView",
       "description": "",
       "description_tooltip": null,
       "layout": "IPY_MODEL_df6311af31de400baa722e0fffacb3cc",
       "placeholder": "​",
       "style": "IPY_MODEL_0beb343d277d4e7ab9fae8604f7b0804",
       "value": " 9912422/9912422 [00:00&lt;00:00, 73295365.29it/s]"
      }
     },
     "5dacf2e722cf463abfcef17e98ffeeac": {
      "model_module": "@jupyter-widgets/controls",
      "model_module_version": "1.5.0",
      "model_name": "HBoxModel",
      "state": {
       "_dom_classes": [],
       "_model_module": "@jupyter-widgets/controls",
       "_model_module_version": "1.5.0",
       "_model_name": "HBoxModel",
       "_view_count": null,
       "_view_module": "@jupyter-widgets/controls",
       "_view_module_version": "1.5.0",
       "_view_name": "HBoxView",
       "box_style": "",
       "children": [
        "IPY_MODEL_e3563237575345cca3b98ae4d27934c8",
        "IPY_MODEL_68cc688977ab427fb99d54de8478b8db",
        "IPY_MODEL_892d4cd3ae7146fc83ea47559826ca7b"
       ],
       "layout": "IPY_MODEL_1f4aed24007945e6830d5b1220db7560"
      }
     },
     "68cc688977ab427fb99d54de8478b8db": {
      "model_module": "@jupyter-widgets/controls",
      "model_module_version": "1.5.0",
      "model_name": "FloatProgressModel",
      "state": {
       "_dom_classes": [],
       "_model_module": "@jupyter-widgets/controls",
       "_model_module_version": "1.5.0",
       "_model_name": "FloatProgressModel",
       "_view_count": null,
       "_view_module": "@jupyter-widgets/controls",
       "_view_module_version": "1.5.0",
       "_view_name": "ProgressView",
       "bar_style": "success",
       "description": "",
       "description_tooltip": null,
       "layout": "IPY_MODEL_5a5f356e8fcf416787ff627592551ebc",
       "max": 1648877.0,
       "min": 0.0,
       "orientation": "horizontal",
       "style": "IPY_MODEL_d1092dbfacd84fa68f4edd7feb0c3b5f",
       "value": 1648877.0
      }
     },
     "7868648ffb764d2e8c9282c089cf3c04": {
      "model_module": "@jupyter-widgets/controls",
      "model_module_version": "1.5.0",
      "model_name": "HTMLModel",
      "state": {
       "_dom_classes": [],
       "_model_module": "@jupyter-widgets/controls",
       "_model_module_version": "1.5.0",
       "_model_name": "HTMLModel",
       "_view_count": null,
       "_view_module": "@jupyter-widgets/controls",
       "_view_module_version": "1.5.0",
       "_view_name": "HTMLView",
       "description": "",
       "description_tooltip": null,
       "layout": "IPY_MODEL_d8db81a30afe401ebff27beea7c05c88",
       "placeholder": "​",
       "style": "IPY_MODEL_5a85a5da3c574d3080cc6e374cee772c",
       "value": "100%"
      }
     },
     "7bce72158bcc42a0aedc7cfbc9334900": {
      "model_module": "@jupyter-widgets/controls",
      "model_module_version": "1.5.0",
      "model_name": "DescriptionStyleModel",
      "state": {
       "_model_module": "@jupyter-widgets/controls",
       "_model_module_version": "1.5.0",
       "_model_name": "DescriptionStyleModel",
       "_view_count": null,
       "_view_module": "@jupyter-widgets/base",
       "_view_module_version": "1.2.0",
       "_view_name": "StyleView",
       "description_width": ""
      }
     },
     "8174ad494004495d93f90237fad5e0fc": {
      "model_module": "@jupyter-widgets/controls",
      "model_module_version": "1.5.0",
      "model_name": "ProgressStyleModel",
      "state": {
       "_model_module": "@jupyter-widgets/controls",
       "_model_module_version": "1.5.0",
       "_model_name": "ProgressStyleModel",
       "_view_count": null,
       "_view_module": "@jupyter-widgets/base",
       "_view_module_version": "1.2.0",
       "_view_name": "StyleView",
       "bar_color": null,
       "description_width": ""
      }
     },
     "8751af35800a47aa993b091ba895c0b0": {
      "model_module": "@jupyter-widgets/base",
      "model_module_version": "1.2.0",
      "model_name": "LayoutModel",
      "state": {
       "_model_module": "@jupyter-widgets/base",
       "_model_module_version": "1.2.0",
       "_model_name": "LayoutModel",
       "_view_count": null,
       "_view_module": "@jupyter-widgets/base",
       "_view_module_version": "1.2.0",
       "_view_name": "LayoutView",
       "align_content": null,
       "align_items": null,
       "align_self": null,
       "border": null,
       "bottom": null,
       "display": null,
       "flex": null,
       "flex_flow": null,
       "grid_area": null,
       "grid_auto_columns": null,
       "grid_auto_flow": null,
       "grid_auto_rows": null,
       "grid_column": null,
       "grid_gap": null,
       "grid_row": null,
       "grid_template_areas": null,
       "grid_template_columns": null,
       "grid_template_rows": null,
       "height": null,
       "justify_content": null,
       "justify_items": null,
       "left": null,
       "margin": null,
       "max_height": null,
       "max_width": null,
       "min_height": null,
       "min_width": null,
       "object_fit": null,
       "object_position": null,
       "order": null,
       "overflow": null,
       "overflow_x": null,
       "overflow_y": null,
       "padding": null,
       "right": null,
       "top": null,
       "visibility": null,
       "width": null
      }
     },
     "892d4cd3ae7146fc83ea47559826ca7b": {
      "model_module": "@jupyter-widgets/controls",
      "model_module_version": "1.5.0",
      "model_name": "HTMLModel",
      "state": {
       "_dom_classes": [],
       "_model_module": "@jupyter-widgets/controls",
       "_model_module_version": "1.5.0",
       "_model_name": "HTMLModel",
       "_view_count": null,
       "_view_module": "@jupyter-widgets/controls",
       "_view_module_version": "1.5.0",
       "_view_name": "HTMLView",
       "description": "",
       "description_tooltip": null,
       "layout": "IPY_MODEL_8751af35800a47aa993b091ba895c0b0",
       "placeholder": "​",
       "style": "IPY_MODEL_c137a3c8b3914ec19600b4f76a6c9ace",
       "value": " 1648877/1648877 [00:00&lt;00:00, 23306310.92it/s]"
      }
     },
     "8dad09c0bfa6421ba36a13917924d16a": {
      "model_module": "@jupyter-widgets/controls",
      "model_module_version": "1.5.0",
      "model_name": "ProgressStyleModel",
      "state": {
       "_model_module": "@jupyter-widgets/controls",
       "_model_module_version": "1.5.0",
       "_model_name": "ProgressStyleModel",
       "_view_count": null,
       "_view_module": "@jupyter-widgets/base",
       "_view_module_version": "1.2.0",
       "_view_name": "StyleView",
       "bar_color": null,
       "description_width": ""
      }
     },
     "9491cf30f1a24752b7b69b7e2fa24e12": {
      "model_module": "@jupyter-widgets/base",
      "model_module_version": "1.2.0",
      "model_name": "LayoutModel",
      "state": {
       "_model_module": "@jupyter-widgets/base",
       "_model_module_version": "1.2.0",
       "_model_name": "LayoutModel",
       "_view_count": null,
       "_view_module": "@jupyter-widgets/base",
       "_view_module_version": "1.2.0",
       "_view_name": "LayoutView",
       "align_content": null,
       "align_items": null,
       "align_self": null,
       "border": null,
       "bottom": null,
       "display": null,
       "flex": null,
       "flex_flow": null,
       "grid_area": null,
       "grid_auto_columns": null,
       "grid_auto_flow": null,
       "grid_auto_rows": null,
       "grid_column": null,
       "grid_gap": null,
       "grid_row": null,
       "grid_template_areas": null,
       "grid_template_columns": null,
       "grid_template_rows": null,
       "height": null,
       "justify_content": null,
       "justify_items": null,
       "left": null,
       "margin": null,
       "max_height": null,
       "max_width": null,
       "min_height": null,
       "min_width": null,
       "object_fit": null,
       "object_position": null,
       "order": null,
       "overflow": null,
       "overflow_x": null,
       "overflow_y": null,
       "padding": null,
       "right": null,
       "top": null,
       "visibility": null,
       "width": null
      }
     },
     "9624c295944349c8baceefd69a3dafa0": {
      "model_module": "@jupyter-widgets/controls",
      "model_module_version": "1.5.0",
      "model_name": "DescriptionStyleModel",
      "state": {
       "_model_module": "@jupyter-widgets/controls",
       "_model_module_version": "1.5.0",
       "_model_name": "DescriptionStyleModel",
       "_view_count": null,
       "_view_module": "@jupyter-widgets/base",
       "_view_module_version": "1.2.0",
       "_view_name": "StyleView",
       "description_width": ""
      }
     },
     "9b78c584f4294c7ebe1549d4bb3e2416": {
      "model_module": "@jupyter-widgets/base",
      "model_module_version": "1.2.0",
      "model_name": "LayoutModel",
      "state": {
       "_model_module": "@jupyter-widgets/base",
       "_model_module_version": "1.2.0",
       "_model_name": "LayoutModel",
       "_view_count": null,
       "_view_module": "@jupyter-widgets/base",
       "_view_module_version": "1.2.0",
       "_view_name": "LayoutView",
       "align_content": null,
       "align_items": null,
       "align_self": null,
       "border": null,
       "bottom": null,
       "display": null,
       "flex": null,
       "flex_flow": null,
       "grid_area": null,
       "grid_auto_columns": null,
       "grid_auto_flow": null,
       "grid_auto_rows": null,
       "grid_column": null,
       "grid_gap": null,
       "grid_row": null,
       "grid_template_areas": null,
       "grid_template_columns": null,
       "grid_template_rows": null,
       "height": null,
       "justify_content": null,
       "justify_items": null,
       "left": null,
       "margin": null,
       "max_height": null,
       "max_width": null,
       "min_height": null,
       "min_width": null,
       "object_fit": null,
       "object_position": null,
       "order": null,
       "overflow": null,
       "overflow_x": null,
       "overflow_y": null,
       "padding": null,
       "right": null,
       "top": null,
       "visibility": null,
       "width": null
      }
     },
     "b4a3db98f667421d8847b7e582bb6ded": {
      "model_module": "@jupyter-widgets/controls",
      "model_module_version": "1.5.0",
      "model_name": "HBoxModel",
      "state": {
       "_dom_classes": [],
       "_model_module": "@jupyter-widgets/controls",
       "_model_module_version": "1.5.0",
       "_model_name": "HBoxModel",
       "_view_count": null,
       "_view_module": "@jupyter-widgets/controls",
       "_view_module_version": "1.5.0",
       "_view_name": "HBoxView",
       "box_style": "",
       "children": [
        "IPY_MODEL_7868648ffb764d2e8c9282c089cf3c04",
        "IPY_MODEL_3d3952e5f829420182b940c2d5e0c4ab",
        "IPY_MODEL_4689e37748644c84ad4e07e766fd20b2"
       ],
       "layout": "IPY_MODEL_372b1de6e7274e8b9f8d149b97e4b754"
      }
     },
     "c137a3c8b3914ec19600b4f76a6c9ace": {
      "model_module": "@jupyter-widgets/controls",
      "model_module_version": "1.5.0",
      "model_name": "DescriptionStyleModel",
      "state": {
       "_model_module": "@jupyter-widgets/controls",
       "_model_module_version": "1.5.0",
       "_model_name": "DescriptionStyleModel",
       "_view_count": null,
       "_view_module": "@jupyter-widgets/base",
       "_view_module_version": "1.2.0",
       "_view_name": "StyleView",
       "description_width": ""
      }
     },
     "d1092dbfacd84fa68f4edd7feb0c3b5f": {
      "model_module": "@jupyter-widgets/controls",
      "model_module_version": "1.5.0",
      "model_name": "ProgressStyleModel",
      "state": {
       "_model_module": "@jupyter-widgets/controls",
       "_model_module_version": "1.5.0",
       "_model_name": "ProgressStyleModel",
       "_view_count": null,
       "_view_module": "@jupyter-widgets/base",
       "_view_module_version": "1.2.0",
       "_view_name": "StyleView",
       "bar_color": null,
       "description_width": ""
      }
     },
     "d4138b3661aa43609b32e1972d7b4830": {
      "model_module": "@jupyter-widgets/base",
      "model_module_version": "1.2.0",
      "model_name": "LayoutModel",
      "state": {
       "_model_module": "@jupyter-widgets/base",
       "_model_module_version": "1.2.0",
       "_model_name": "LayoutModel",
       "_view_count": null,
       "_view_module": "@jupyter-widgets/base",
       "_view_module_version": "1.2.0",
       "_view_name": "LayoutView",
       "align_content": null,
       "align_items": null,
       "align_self": null,
       "border": null,
       "bottom": null,
       "display": null,
       "flex": null,
       "flex_flow": null,
       "grid_area": null,
       "grid_auto_columns": null,
       "grid_auto_flow": null,
       "grid_auto_rows": null,
       "grid_column": null,
       "grid_gap": null,
       "grid_row": null,
       "grid_template_areas": null,
       "grid_template_columns": null,
       "grid_template_rows": null,
       "height": null,
       "justify_content": null,
       "justify_items": null,
       "left": null,
       "margin": null,
       "max_height": null,
       "max_width": null,
       "min_height": null,
       "min_width": null,
       "object_fit": null,
       "object_position": null,
       "order": null,
       "overflow": null,
       "overflow_x": null,
       "overflow_y": null,
       "padding": null,
       "right": null,
       "top": null,
       "visibility": null,
       "width": null
      }
     },
     "d8db81a30afe401ebff27beea7c05c88": {
      "model_module": "@jupyter-widgets/base",
      "model_module_version": "1.2.0",
      "model_name": "LayoutModel",
      "state": {
       "_model_module": "@jupyter-widgets/base",
       "_model_module_version": "1.2.0",
       "_model_name": "LayoutModel",
       "_view_count": null,
       "_view_module": "@jupyter-widgets/base",
       "_view_module_version": "1.2.0",
       "_view_name": "LayoutView",
       "align_content": null,
       "align_items": null,
       "align_self": null,
       "border": null,
       "bottom": null,
       "display": null,
       "flex": null,
       "flex_flow": null,
       "grid_area": null,
       "grid_auto_columns": null,
       "grid_auto_flow": null,
       "grid_auto_rows": null,
       "grid_column": null,
       "grid_gap": null,
       "grid_row": null,
       "grid_template_areas": null,
       "grid_template_columns": null,
       "grid_template_rows": null,
       "height": null,
       "justify_content": null,
       "justify_items": null,
       "left": null,
       "margin": null,
       "max_height": null,
       "max_width": null,
       "min_height": null,
       "min_width": null,
       "object_fit": null,
       "object_position": null,
       "order": null,
       "overflow": null,
       "overflow_x": null,
       "overflow_y": null,
       "padding": null,
       "right": null,
       "top": null,
       "visibility": null,
       "width": null
      }
     },
     "dbef59c0810045beab66bb2698947c48": {
      "model_module": "@jupyter-widgets/base",
      "model_module_version": "1.2.0",
      "model_name": "LayoutModel",
      "state": {
       "_model_module": "@jupyter-widgets/base",
       "_model_module_version": "1.2.0",
       "_model_name": "LayoutModel",
       "_view_count": null,
       "_view_module": "@jupyter-widgets/base",
       "_view_module_version": "1.2.0",
       "_view_name": "LayoutView",
       "align_content": null,
       "align_items": null,
       "align_self": null,
       "border": null,
       "bottom": null,
       "display": null,
       "flex": null,
       "flex_flow": null,
       "grid_area": null,
       "grid_auto_columns": null,
       "grid_auto_flow": null,
       "grid_auto_rows": null,
       "grid_column": null,
       "grid_gap": null,
       "grid_row": null,
       "grid_template_areas": null,
       "grid_template_columns": null,
       "grid_template_rows": null,
       "height": null,
       "justify_content": null,
       "justify_items": null,
       "left": null,
       "margin": null,
       "max_height": null,
       "max_width": null,
       "min_height": null,
       "min_width": null,
       "object_fit": null,
       "object_position": null,
       "order": null,
       "overflow": null,
       "overflow_x": null,
       "overflow_y": null,
       "padding": null,
       "right": null,
       "top": null,
       "visibility": null,
       "width": null
      }
     },
     "dd89884367814456abe01c7b7acdbaf0": {
      "model_module": "@jupyter-widgets/controls",
      "model_module_version": "1.5.0",
      "model_name": "HTMLModel",
      "state": {
       "_dom_classes": [],
       "_model_module": "@jupyter-widgets/controls",
       "_model_module_version": "1.5.0",
       "_model_name": "HTMLModel",
       "_view_count": null,
       "_view_module": "@jupyter-widgets/controls",
       "_view_module_version": "1.5.0",
       "_view_name": "HTMLView",
       "description": "",
       "description_tooltip": null,
       "layout": "IPY_MODEL_9491cf30f1a24752b7b69b7e2fa24e12",
       "placeholder": "​",
       "style": "IPY_MODEL_3d9f66d9cea6483b95f2bc4fc5f9b525",
       "value": "100%"
      }
     },
     "df6311af31de400baa722e0fffacb3cc": {
      "model_module": "@jupyter-widgets/base",
      "model_module_version": "1.2.0",
      "model_name": "LayoutModel",
      "state": {
       "_model_module": "@jupyter-widgets/base",
       "_model_module_version": "1.2.0",
       "_model_name": "LayoutModel",
       "_view_count": null,
       "_view_module": "@jupyter-widgets/base",
       "_view_module_version": "1.2.0",
       "_view_name": "LayoutView",
       "align_content": null,
       "align_items": null,
       "align_self": null,
       "border": null,
       "bottom": null,
       "display": null,
       "flex": null,
       "flex_flow": null,
       "grid_area": null,
       "grid_auto_columns": null,
       "grid_auto_flow": null,
       "grid_auto_rows": null,
       "grid_column": null,
       "grid_gap": null,
       "grid_row": null,
       "grid_template_areas": null,
       "grid_template_columns": null,
       "grid_template_rows": null,
       "height": null,
       "justify_content": null,
       "justify_items": null,
       "left": null,
       "margin": null,
       "max_height": null,
       "max_width": null,
       "min_height": null,
       "min_width": null,
       "object_fit": null,
       "object_position": null,
       "order": null,
       "overflow": null,
       "overflow_x": null,
       "overflow_y": null,
       "padding": null,
       "right": null,
       "top": null,
       "visibility": null,
       "width": null
      }
     },
     "e3563237575345cca3b98ae4d27934c8": {
      "model_module": "@jupyter-widgets/controls",
      "model_module_version": "1.5.0",
      "model_name": "HTMLModel",
      "state": {
       "_dom_classes": [],
       "_model_module": "@jupyter-widgets/controls",
       "_model_module_version": "1.5.0",
       "_model_name": "HTMLModel",
       "_view_count": null,
       "_view_module": "@jupyter-widgets/controls",
       "_view_module_version": "1.5.0",
       "_view_name": "HTMLView",
       "description": "",
       "description_tooltip": null,
       "layout": "IPY_MODEL_dbef59c0810045beab66bb2698947c48",
       "placeholder": "​",
       "style": "IPY_MODEL_fd121f39aa054770bbb0523bf140f9f4",
       "value": "100%"
      }
     },
     "e5fe1aba434140029240926a00ad8aed": {
      "model_module": "@jupyter-widgets/base",
      "model_module_version": "1.2.0",
      "model_name": "LayoutModel",
      "state": {
       "_model_module": "@jupyter-widgets/base",
       "_model_module_version": "1.2.0",
       "_model_name": "LayoutModel",
       "_view_count": null,
       "_view_module": "@jupyter-widgets/base",
       "_view_module_version": "1.2.0",
       "_view_name": "LayoutView",
       "align_content": null,
       "align_items": null,
       "align_self": null,
       "border": null,
       "bottom": null,
       "display": null,
       "flex": null,
       "flex_flow": null,
       "grid_area": null,
       "grid_auto_columns": null,
       "grid_auto_flow": null,
       "grid_auto_rows": null,
       "grid_column": null,
       "grid_gap": null,
       "grid_row": null,
       "grid_template_areas": null,
       "grid_template_columns": null,
       "grid_template_rows": null,
       "height": null,
       "justify_content": null,
       "justify_items": null,
       "left": null,
       "margin": null,
       "max_height": null,
       "max_width": null,
       "min_height": null,
       "min_width": null,
       "object_fit": null,
       "object_position": null,
       "order": null,
       "overflow": null,
       "overflow_x": null,
       "overflow_y": null,
       "padding": null,
       "right": null,
       "top": null,
       "visibility": null,
       "width": null
      }
     },
     "ebe86ae881d44d9d96bdecff050b9358": {
      "model_module": "@jupyter-widgets/controls",
      "model_module_version": "1.5.0",
      "model_name": "HBoxModel",
      "state": {
       "_dom_classes": [],
       "_model_module": "@jupyter-widgets/controls",
       "_model_module_version": "1.5.0",
       "_model_name": "HBoxModel",
       "_view_count": null,
       "_view_module": "@jupyter-widgets/controls",
       "_view_module_version": "1.5.0",
       "_view_name": "HBoxView",
       "box_style": "",
       "children": [
        "IPY_MODEL_1ae074b0dbfa4bddb96e85cb691a3d4e",
        "IPY_MODEL_3d42db12182a44ac9bc91f6117c6434f",
        "IPY_MODEL_13d9b2544e244fab919c8430a33be380"
       ],
       "layout": "IPY_MODEL_d4138b3661aa43609b32e1972d7b4830"
      }
     },
     "fd121f39aa054770bbb0523bf140f9f4": {
      "model_module": "@jupyter-widgets/controls",
      "model_module_version": "1.5.0",
      "model_name": "DescriptionStyleModel",
      "state": {
       "_model_module": "@jupyter-widgets/controls",
       "_model_module_version": "1.5.0",
       "_model_name": "DescriptionStyleModel",
       "_view_count": null,
       "_view_module": "@jupyter-widgets/base",
       "_view_module_version": "1.2.0",
       "_view_name": "StyleView",
       "description_width": ""
      }
     }
    },
    "version_major": 2,
    "version_minor": 0
   }
  }
 },
 "nbformat": 4,
 "nbformat_minor": 5
}
