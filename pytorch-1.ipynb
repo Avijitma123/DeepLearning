{
 "cells": [
  {
   "cell_type": "code",
   "execution_count": 1,
   "id": "0e877951",
   "metadata": {
    "_cell_guid": "b1076dfc-b9ad-4769-8c92-a6c4dae69d19",
    "_uuid": "8f2839f25d086af736a60e9eeb907d3b93b6e0e5",
    "execution": {
     "iopub.execute_input": "2024-01-05T16:08:45.290116Z",
     "iopub.status.busy": "2024-01-05T16:08:45.289722Z",
     "iopub.status.idle": "2024-01-05T16:08:46.271472Z",
     "shell.execute_reply": "2024-01-05T16:08:46.270327Z"
    },
    "papermill": {
     "duration": 0.993476,
     "end_time": "2024-01-05T16:08:46.273941",
     "exception": false,
     "start_time": "2024-01-05T16:08:45.280465",
     "status": "completed"
    },
    "tags": []
   },
   "outputs": [
    {
     "name": "stdout",
     "output_type": "stream",
     "text": [
      "Fri Jan  5 16:08:46 2024       \r\n",
      "+---------------------------------------------------------------------------------------+\r\n",
      "| NVIDIA-SMI 535.129.03             Driver Version: 535.129.03   CUDA Version: 12.2     |\r\n",
      "|-----------------------------------------+----------------------+----------------------+\r\n",
      "| GPU  Name                 Persistence-M | Bus-Id        Disp.A | Volatile Uncorr. ECC |\r\n",
      "| Fan  Temp   Perf          Pwr:Usage/Cap |         Memory-Usage | GPU-Util  Compute M. |\r\n",
      "|                                         |                      |               MIG M. |\r\n",
      "|=========================================+======================+======================|\r\n",
      "|   0  Tesla P100-PCIE-16GB           Off | 00000000:00:04.0 Off |                    0 |\r\n",
      "| N/A   40C    P0              27W / 250W |      0MiB / 16384MiB |      0%      Default |\r\n",
      "|                                         |                      |                  N/A |\r\n",
      "+-----------------------------------------+----------------------+----------------------+\r\n",
      "                                                                                         \r\n",
      "+---------------------------------------------------------------------------------------+\r\n",
      "| Processes:                                                                            |\r\n",
      "|  GPU   GI   CI        PID   Type   Process name                            GPU Memory |\r\n",
      "|        ID   ID                                                             Usage      |\r\n",
      "|=======================================================================================|\r\n",
      "|  No running processes found                                                           |\r\n",
      "+---------------------------------------------------------------------------------------+\r\n"
     ]
    }
   ],
   "source": [
    "!nvidia-smi"
   ]
  },
  {
   "cell_type": "code",
   "execution_count": 2,
   "id": "edcaa871",
   "metadata": {
    "execution": {
     "iopub.execute_input": "2024-01-05T16:08:46.290156Z",
     "iopub.status.busy": "2024-01-05T16:08:46.289707Z",
     "iopub.status.idle": "2024-01-05T16:08:50.347823Z",
     "shell.execute_reply": "2024-01-05T16:08:50.346823Z"
    },
    "papermill": {
     "duration": 4.069366,
     "end_time": "2024-01-05T16:08:50.350014",
     "exception": false,
     "start_time": "2024-01-05T16:08:46.280648",
     "status": "completed"
    },
    "tags": []
   },
   "outputs": [
    {
     "name": "stdout",
     "output_type": "stream",
     "text": [
      "2.0.0\n"
     ]
    }
   ],
   "source": [
    "import torch\n",
    "import pandas as pd\n",
    "import numpy as np\n",
    "\n",
    "print(torch.__version__)"
   ]
  },
  {
   "cell_type": "markdown",
   "id": "0ba5205f",
   "metadata": {
    "papermill": {
     "duration": 0.006273,
     "end_time": "2024-01-05T16:08:50.363215",
     "exception": false,
     "start_time": "2024-01-05T16:08:50.356942",
     "status": "completed"
    },
    "tags": []
   },
   "source": [
    "## Introduction to Tensors\n"
   ]
  },
  {
   "cell_type": "code",
   "execution_count": 3,
   "id": "f926190e",
   "metadata": {
    "execution": {
     "iopub.execute_input": "2024-01-05T16:08:50.377230Z",
     "iopub.status.busy": "2024-01-05T16:08:50.376782Z",
     "iopub.status.idle": "2024-01-05T16:08:50.412463Z",
     "shell.execute_reply": "2024-01-05T16:08:50.411617Z"
    },
    "papermill": {
     "duration": 0.044819,
     "end_time": "2024-01-05T16:08:50.414372",
     "exception": false,
     "start_time": "2024-01-05T16:08:50.369553",
     "status": "completed"
    },
    "tags": []
   },
   "outputs": [
    {
     "data": {
      "text/plain": [
       "tensor(7)"
      ]
     },
     "execution_count": 3,
     "metadata": {},
     "output_type": "execute_result"
    }
   ],
   "source": [
    "#scalar\n",
    "\n",
    "scalar = torch.tensor(7)\n",
    "scalar"
   ]
  },
  {
   "cell_type": "code",
   "execution_count": 4,
   "id": "73a6648e",
   "metadata": {
    "execution": {
     "iopub.execute_input": "2024-01-05T16:08:50.428448Z",
     "iopub.status.busy": "2024-01-05T16:08:50.428189Z",
     "iopub.status.idle": "2024-01-05T16:08:50.433382Z",
     "shell.execute_reply": "2024-01-05T16:08:50.432569Z"
    },
    "papermill": {
     "duration": 0.014468,
     "end_time": "2024-01-05T16:08:50.435359",
     "exception": false,
     "start_time": "2024-01-05T16:08:50.420891",
     "status": "completed"
    },
    "tags": []
   },
   "outputs": [
    {
     "data": {
      "text/plain": [
       "0"
      ]
     },
     "execution_count": 4,
     "metadata": {},
     "output_type": "execute_result"
    }
   ],
   "source": [
    "scalar.ndim"
   ]
  },
  {
   "cell_type": "code",
   "execution_count": 5,
   "id": "3bd100f2",
   "metadata": {
    "execution": {
     "iopub.execute_input": "2024-01-05T16:08:50.450936Z",
     "iopub.status.busy": "2024-01-05T16:08:50.450304Z",
     "iopub.status.idle": "2024-01-05T16:08:50.456293Z",
     "shell.execute_reply": "2024-01-05T16:08:50.455472Z"
    },
    "papermill": {
     "duration": 0.016151,
     "end_time": "2024-01-05T16:08:50.458216",
     "exception": false,
     "start_time": "2024-01-05T16:08:50.442065",
     "status": "completed"
    },
    "tags": []
   },
   "outputs": [
    {
     "data": {
      "text/plain": [
       "7"
      ]
     },
     "execution_count": 5,
     "metadata": {},
     "output_type": "execute_result"
    }
   ],
   "source": [
    "scalar.item()"
   ]
  },
  {
   "cell_type": "code",
   "execution_count": 6,
   "id": "56ccbf49",
   "metadata": {
    "execution": {
     "iopub.execute_input": "2024-01-05T16:08:50.472905Z",
     "iopub.status.busy": "2024-01-05T16:08:50.472611Z",
     "iopub.status.idle": "2024-01-05T16:08:50.477791Z",
     "shell.execute_reply": "2024-01-05T16:08:50.476996Z"
    },
    "papermill": {
     "duration": 0.014634,
     "end_time": "2024-01-05T16:08:50.479659",
     "exception": false,
     "start_time": "2024-01-05T16:08:50.465025",
     "status": "completed"
    },
    "tags": []
   },
   "outputs": [
    {
     "data": {
      "text/plain": [
       "1"
      ]
     },
     "execution_count": 6,
     "metadata": {},
     "output_type": "execute_result"
    }
   ],
   "source": [
    "vector= torch.tensor([2,3])\n",
    "vector.ndim"
   ]
  },
  {
   "cell_type": "code",
   "execution_count": 7,
   "id": "2c550d59",
   "metadata": {
    "execution": {
     "iopub.execute_input": "2024-01-05T16:08:50.494709Z",
     "iopub.status.busy": "2024-01-05T16:08:50.494029Z",
     "iopub.status.idle": "2024-01-05T16:08:50.502908Z",
     "shell.execute_reply": "2024-01-05T16:08:50.502081Z"
    },
    "papermill": {
     "duration": 0.01851,
     "end_time": "2024-01-05T16:08:50.504967",
     "exception": false,
     "start_time": "2024-01-05T16:08:50.486457",
     "status": "completed"
    },
    "tags": []
   },
   "outputs": [
    {
     "data": {
      "text/plain": [
       "tensor([[1, 2],\n",
       "        [6, 7]])"
      ]
     },
     "execution_count": 7,
     "metadata": {},
     "output_type": "execute_result"
    }
   ],
   "source": [
    "matrix  = torch.tensor([[1,2],\n",
    "                        [6,7]])\n",
    "matrix"
   ]
  },
  {
   "cell_type": "code",
   "execution_count": 8,
   "id": "2b98f574",
   "metadata": {
    "execution": {
     "iopub.execute_input": "2024-01-05T16:08:50.520617Z",
     "iopub.status.busy": "2024-01-05T16:08:50.519977Z",
     "iopub.status.idle": "2024-01-05T16:08:50.525167Z",
     "shell.execute_reply": "2024-01-05T16:08:50.524496Z"
    },
    "papermill": {
     "duration": 0.014953,
     "end_time": "2024-01-05T16:08:50.527136",
     "exception": false,
     "start_time": "2024-01-05T16:08:50.512183",
     "status": "completed"
    },
    "tags": []
   },
   "outputs": [
    {
     "data": {
      "text/plain": [
       "torch.Size([2, 2])"
      ]
     },
     "execution_count": 8,
     "metadata": {},
     "output_type": "execute_result"
    }
   ],
   "source": [
    "matrix.shape"
   ]
  },
  {
   "cell_type": "code",
   "execution_count": 9,
   "id": "07e9f820",
   "metadata": {
    "execution": {
     "iopub.execute_input": "2024-01-05T16:08:50.542515Z",
     "iopub.status.busy": "2024-01-05T16:08:50.542273Z",
     "iopub.status.idle": "2024-01-05T16:08:50.548998Z",
     "shell.execute_reply": "2024-01-05T16:08:50.548193Z"
    },
    "papermill": {
     "duration": 0.016516,
     "end_time": "2024-01-05T16:08:50.550947",
     "exception": false,
     "start_time": "2024-01-05T16:08:50.534431",
     "status": "completed"
    },
    "tags": []
   },
   "outputs": [
    {
     "data": {
      "text/plain": [
       "tensor([[[1, 2, 3],\n",
       "         [2, 4, 8],\n",
       "         [5, 9, 1]],\n",
       "\n",
       "        [[1, 2, 3],\n",
       "         [2, 4, 8],\n",
       "         [5, 9, 1]]])"
      ]
     },
     "execution_count": 9,
     "metadata": {},
     "output_type": "execute_result"
    }
   ],
   "source": [
    "tensor = torch.tensor([[[1,2,3],\n",
    "                      [2,4,8],\n",
    "                      [5,9,1]],    \n",
    "                      [[1,2,3],\n",
    "                      [2,4,8],\n",
    "                      [5,9,1]]])\n",
    "tensor\n"
   ]
  },
  {
   "cell_type": "code",
   "execution_count": 10,
   "id": "103c3807",
   "metadata": {
    "execution": {
     "iopub.execute_input": "2024-01-05T16:08:50.566308Z",
     "iopub.status.busy": "2024-01-05T16:08:50.566050Z",
     "iopub.status.idle": "2024-01-05T16:08:50.571702Z",
     "shell.execute_reply": "2024-01-05T16:08:50.570933Z"
    },
    "papermill": {
     "duration": 0.015362,
     "end_time": "2024-01-05T16:08:50.573494",
     "exception": false,
     "start_time": "2024-01-05T16:08:50.558132",
     "status": "completed"
    },
    "tags": []
   },
   "outputs": [
    {
     "data": {
      "text/plain": [
       "tensor(1)"
      ]
     },
     "execution_count": 10,
     "metadata": {},
     "output_type": "execute_result"
    }
   ],
   "source": [
    "tensor[1][0][0]"
   ]
  },
  {
   "cell_type": "markdown",
   "id": "f91ff399",
   "metadata": {
    "papermill": {
     "duration": 0.007151,
     "end_time": "2024-01-05T16:08:50.588032",
     "exception": false,
     "start_time": "2024-01-05T16:08:50.580881",
     "status": "completed"
    },
    "tags": []
   },
   "source": [
    "### Random tensors\n"
   ]
  },
  {
   "cell_type": "code",
   "execution_count": 11,
   "id": "aed0e020",
   "metadata": {
    "execution": {
     "iopub.execute_input": "2024-01-05T16:08:50.603635Z",
     "iopub.status.busy": "2024-01-05T16:08:50.603368Z",
     "iopub.status.idle": "2024-01-05T16:08:50.659499Z",
     "shell.execute_reply": "2024-01-05T16:08:50.658618Z"
    },
    "papermill": {
     "duration": 0.06608,
     "end_time": "2024-01-05T16:08:50.661444",
     "exception": false,
     "start_time": "2024-01-05T16:08:50.595364",
     "status": "completed"
    },
    "tags": []
   },
   "outputs": [
    {
     "data": {
      "text/plain": [
       "tensor([[[0.7683, 0.1189, 0.2620, 0.0672],\n",
       "         [0.2142, 0.0516, 0.2898, 0.2483],\n",
       "         [0.3647, 0.6772, 0.7018, 0.5435],\n",
       "         [0.6433, 0.3496, 0.2669, 0.9381]],\n",
       "\n",
       "        [[0.7761, 0.0813, 0.1666, 0.7682],\n",
       "         [0.1159, 0.9098, 0.5858, 0.9228],\n",
       "         [0.2474, 0.8572, 0.2274, 0.3085],\n",
       "         [0.0115, 0.4311, 0.0803, 0.4034]],\n",
       "\n",
       "        [[0.0726, 0.1086, 0.3197, 0.7618],\n",
       "         [0.1941, 0.0264, 0.0448, 0.3276],\n",
       "         [0.0698, 0.6088, 0.5755, 0.1724],\n",
       "         [0.1496, 0.1002, 0.4617, 0.0485]]])"
      ]
     },
     "execution_count": 11,
     "metadata": {},
     "output_type": "execute_result"
    }
   ],
   "source": [
    "#create a random tensor size (3,4,4)\n",
    "\n",
    "random_tensor = torch.rand(3, 4, 4)\n",
    "random_tensor"
   ]
  },
  {
   "cell_type": "code",
   "execution_count": 12,
   "id": "2807b79e",
   "metadata": {
    "execution": {
     "iopub.execute_input": "2024-01-05T16:08:50.678275Z",
     "iopub.status.busy": "2024-01-05T16:08:50.677972Z",
     "iopub.status.idle": "2024-01-05T16:08:50.688854Z",
     "shell.execute_reply": "2024-01-05T16:08:50.688122Z"
    },
    "papermill": {
     "duration": 0.021334,
     "end_time": "2024-01-05T16:08:50.690679",
     "exception": false,
     "start_time": "2024-01-05T16:08:50.669345",
     "status": "completed"
    },
    "tags": []
   },
   "outputs": [
    {
     "data": {
      "text/plain": [
       "tensor([[[0.6259, 0.0998, 0.6982],\n",
       "         [0.9254, 0.7321, 0.7644],\n",
       "         [0.0600, 0.0970, 0.9117],\n",
       "         ...,\n",
       "         [0.5446, 0.3965, 0.7256],\n",
       "         [0.1416, 0.1524, 0.7457],\n",
       "         [0.9405, 0.3553, 0.8685]],\n",
       "\n",
       "        [[0.7322, 0.9208, 0.2977],\n",
       "         [0.7929, 0.4824, 0.5517],\n",
       "         [0.2502, 0.1082, 0.9405],\n",
       "         ...,\n",
       "         [0.6106, 0.7610, 0.7167],\n",
       "         [0.2931, 0.9812, 0.4582],\n",
       "         [0.9946, 0.0206, 0.2195]],\n",
       "\n",
       "        [[0.7163, 0.9894, 0.9620],\n",
       "         [0.5935, 0.4251, 0.0289],\n",
       "         [0.9937, 0.4802, 0.7556],\n",
       "         ...,\n",
       "         [0.9864, 0.5377, 0.7901],\n",
       "         [0.4889, 0.8635, 0.3182],\n",
       "         [0.5853, 0.7462, 0.8281]],\n",
       "\n",
       "        ...,\n",
       "\n",
       "        [[0.4147, 0.1508, 0.0793],\n",
       "         [0.1153, 0.3566, 0.6763],\n",
       "         [0.9865, 0.9566, 0.8306],\n",
       "         ...,\n",
       "         [0.0559, 0.6181, 0.0269],\n",
       "         [0.8364, 0.9615, 0.5436],\n",
       "         [0.1552, 0.9150, 0.9955]],\n",
       "\n",
       "        [[0.9269, 0.6724, 0.2014],\n",
       "         [0.7196, 0.2589, 0.6458],\n",
       "         [0.0424, 0.5876, 0.1008],\n",
       "         ...,\n",
       "         [0.2149, 0.2027, 0.1476],\n",
       "         [0.3650, 0.4333, 0.8520],\n",
       "         [0.1876, 0.4839, 0.2698]],\n",
       "\n",
       "        [[0.4713, 0.7307, 0.5872],\n",
       "         [0.3160, 0.5984, 0.8830],\n",
       "         [0.7262, 0.4124, 0.5859],\n",
       "         ...,\n",
       "         [0.2144, 0.2684, 0.8752],\n",
       "         [0.1653, 0.3266, 0.5181],\n",
       "         [0.8527, 0.2307, 0.9424]]])"
      ]
     },
     "execution_count": 12,
     "metadata": {},
     "output_type": "execute_result"
    }
   ],
   "source": [
    "#create a random tensor with similar shape to an image tensor\n",
    "\n",
    "random_image_size_tensor = torch.rand(size=(224, 224, 3)) #height, width, colour channels\n",
    "random_image_size_tensor"
   ]
  },
  {
   "cell_type": "markdown",
   "id": "449c0246",
   "metadata": {
    "papermill": {
     "duration": 0.007496,
     "end_time": "2024-01-05T16:08:50.706090",
     "exception": false,
     "start_time": "2024-01-05T16:08:50.698594",
     "status": "completed"
    },
    "tags": []
   },
   "source": [
    "### Zeros  and ones "
   ]
  },
  {
   "cell_type": "code",
   "execution_count": 13,
   "id": "b2643ba6",
   "metadata": {
    "execution": {
     "iopub.execute_input": "2024-01-05T16:08:50.723304Z",
     "iopub.status.busy": "2024-01-05T16:08:50.722999Z",
     "iopub.status.idle": "2024-01-05T16:08:50.732486Z",
     "shell.execute_reply": "2024-01-05T16:08:50.731740Z"
    },
    "papermill": {
     "duration": 0.020183,
     "end_time": "2024-01-05T16:08:50.734380",
     "exception": false,
     "start_time": "2024-01-05T16:08:50.714197",
     "status": "completed"
    },
    "tags": []
   },
   "outputs": [
    {
     "data": {
      "text/plain": [
       "tensor([[[0., 0., 0.],\n",
       "         [0., 0., 0.],\n",
       "         [0., 0., 0.],\n",
       "         ...,\n",
       "         [0., 0., 0.],\n",
       "         [0., 0., 0.],\n",
       "         [0., 0., 0.]],\n",
       "\n",
       "        [[0., 0., 0.],\n",
       "         [0., 0., 0.],\n",
       "         [0., 0., 0.],\n",
       "         ...,\n",
       "         [0., 0., 0.],\n",
       "         [0., 0., 0.],\n",
       "         [0., 0., 0.]],\n",
       "\n",
       "        [[0., 0., 0.],\n",
       "         [0., 0., 0.],\n",
       "         [0., 0., 0.],\n",
       "         ...,\n",
       "         [0., 0., 0.],\n",
       "         [0., 0., 0.],\n",
       "         [0., 0., 0.]],\n",
       "\n",
       "        ...,\n",
       "\n",
       "        [[0., 0., 0.],\n",
       "         [0., 0., 0.],\n",
       "         [0., 0., 0.],\n",
       "         ...,\n",
       "         [0., 0., 0.],\n",
       "         [0., 0., 0.],\n",
       "         [0., 0., 0.]],\n",
       "\n",
       "        [[0., 0., 0.],\n",
       "         [0., 0., 0.],\n",
       "         [0., 0., 0.],\n",
       "         ...,\n",
       "         [0., 0., 0.],\n",
       "         [0., 0., 0.],\n",
       "         [0., 0., 0.]],\n",
       "\n",
       "        [[0., 0., 0.],\n",
       "         [0., 0., 0.],\n",
       "         [0., 0., 0.],\n",
       "         ...,\n",
       "         [0., 0., 0.],\n",
       "         [0., 0., 0.],\n",
       "         [0., 0., 0.]]])"
      ]
     },
     "execution_count": 13,
     "metadata": {},
     "output_type": "execute_result"
    }
   ],
   "source": [
    "#create a tensor of all zeros\n",
    "\n",
    "zeros = torch.zeros(size=(224, 224, 3))\n",
    "zeros"
   ]
  },
  {
   "cell_type": "code",
   "execution_count": 14,
   "id": "0e093fa0",
   "metadata": {
    "execution": {
     "iopub.execute_input": "2024-01-05T16:08:50.751572Z",
     "iopub.status.busy": "2024-01-05T16:08:50.751279Z",
     "iopub.status.idle": "2024-01-05T16:08:50.758815Z",
     "shell.execute_reply": "2024-01-05T16:08:50.757974Z"
    },
    "papermill": {
     "duration": 0.01832,
     "end_time": "2024-01-05T16:08:50.760706",
     "exception": false,
     "start_time": "2024-01-05T16:08:50.742386",
     "status": "completed"
    },
    "tags": []
   },
   "outputs": [
    {
     "data": {
      "text/plain": [
       "tensor([[[0., 0., 0.],\n",
       "         [0., 0., 0.],\n",
       "         [0., 0., 0.],\n",
       "         ...,\n",
       "         [0., 0., 0.],\n",
       "         [0., 0., 0.],\n",
       "         [0., 0., 0.]],\n",
       "\n",
       "        [[0., 0., 0.],\n",
       "         [0., 0., 0.],\n",
       "         [0., 0., 0.],\n",
       "         ...,\n",
       "         [0., 0., 0.],\n",
       "         [0., 0., 0.],\n",
       "         [0., 0., 0.]],\n",
       "\n",
       "        [[0., 0., 0.],\n",
       "         [0., 0., 0.],\n",
       "         [0., 0., 0.],\n",
       "         ...,\n",
       "         [0., 0., 0.],\n",
       "         [0., 0., 0.],\n",
       "         [0., 0., 0.]],\n",
       "\n",
       "        ...,\n",
       "\n",
       "        [[0., 0., 0.],\n",
       "         [0., 0., 0.],\n",
       "         [0., 0., 0.],\n",
       "         ...,\n",
       "         [0., 0., 0.],\n",
       "         [0., 0., 0.],\n",
       "         [0., 0., 0.]],\n",
       "\n",
       "        [[0., 0., 0.],\n",
       "         [0., 0., 0.],\n",
       "         [0., 0., 0.],\n",
       "         ...,\n",
       "         [0., 0., 0.],\n",
       "         [0., 0., 0.],\n",
       "         [0., 0., 0.]],\n",
       "\n",
       "        [[0., 0., 0.],\n",
       "         [0., 0., 0.],\n",
       "         [0., 0., 0.],\n",
       "         ...,\n",
       "         [0., 0., 0.],\n",
       "         [0., 0., 0.],\n",
       "         [0., 0., 0.]]])"
      ]
     },
     "execution_count": 14,
     "metadata": {},
     "output_type": "execute_result"
    }
   ],
   "source": [
    "random_image_size_tensor*zeros"
   ]
  },
  {
   "cell_type": "code",
   "execution_count": 15,
   "id": "48df984d",
   "metadata": {
    "execution": {
     "iopub.execute_input": "2024-01-05T16:08:50.778276Z",
     "iopub.status.busy": "2024-01-05T16:08:50.777984Z",
     "iopub.status.idle": "2024-01-05T16:08:50.784419Z",
     "shell.execute_reply": "2024-01-05T16:08:50.783713Z"
    },
    "papermill": {
     "duration": 0.01735,
     "end_time": "2024-01-05T16:08:50.786251",
     "exception": false,
     "start_time": "2024-01-05T16:08:50.768901",
     "status": "completed"
    },
    "tags": []
   },
   "outputs": [],
   "source": [
    "one_to_ten=torch.arange(1,11,1)"
   ]
  },
  {
   "cell_type": "code",
   "execution_count": 16,
   "id": "303c9447",
   "metadata": {
    "execution": {
     "iopub.execute_input": "2024-01-05T16:08:50.803440Z",
     "iopub.status.busy": "2024-01-05T16:08:50.803168Z",
     "iopub.status.idle": "2024-01-05T16:08:50.809220Z",
     "shell.execute_reply": "2024-01-05T16:08:50.808409Z"
    },
    "papermill": {
     "duration": 0.016802,
     "end_time": "2024-01-05T16:08:50.811079",
     "exception": false,
     "start_time": "2024-01-05T16:08:50.794277",
     "status": "completed"
    },
    "tags": []
   },
   "outputs": [
    {
     "data": {
      "text/plain": [
       "tensor([0, 0, 0, 0, 0, 0, 0, 0, 0, 0])"
      ]
     },
     "execution_count": 16,
     "metadata": {},
     "output_type": "execute_result"
    }
   ],
   "source": [
    "tensor_zeros = torch.zeros_like(input=one_to_ten)\n",
    "tensor_zeros"
   ]
  },
  {
   "cell_type": "markdown",
   "id": "c45895a5",
   "metadata": {
    "papermill": {
     "duration": 0.008021,
     "end_time": "2024-01-05T16:08:50.827368",
     "exception": false,
     "start_time": "2024-01-05T16:08:50.819347",
     "status": "completed"
    },
    "tags": []
   },
   "source": [
    "### Manipulating Tensors (tensor operations)\n",
    "\n",
    "Tensor operations include:\n",
    "\n",
    "    * Addition\n",
    "    * Subtraction\n",
    "    * Multiplication\n",
    "    * Division\n",
    "    * Matrix Mul"
   ]
  },
  {
   "cell_type": "code",
   "execution_count": 17,
   "id": "79ab9fae",
   "metadata": {
    "execution": {
     "iopub.execute_input": "2024-01-05T16:08:50.845054Z",
     "iopub.status.busy": "2024-01-05T16:08:50.844726Z",
     "iopub.status.idle": "2024-01-05T16:08:50.851896Z",
     "shell.execute_reply": "2024-01-05T16:08:50.851070Z"
    },
    "papermill": {
     "duration": 0.018282,
     "end_time": "2024-01-05T16:08:50.853798",
     "exception": false,
     "start_time": "2024-01-05T16:08:50.835516",
     "status": "completed"
    },
    "tags": []
   },
   "outputs": [
    {
     "data": {
      "text/plain": [
       "tensor([11, 12, 13])"
      ]
     },
     "execution_count": 17,
     "metadata": {},
     "output_type": "execute_result"
    }
   ],
   "source": [
    "#Create a tensor\n",
    "\n",
    "tensor = torch.tensor([1,2,3])\n",
    "tensor + 10"
   ]
  },
  {
   "cell_type": "code",
   "execution_count": 18,
   "id": "2a80dce0",
   "metadata": {
    "execution": {
     "iopub.execute_input": "2024-01-05T16:08:50.871469Z",
     "iopub.status.busy": "2024-01-05T16:08:50.871205Z",
     "iopub.status.idle": "2024-01-05T16:08:50.878348Z",
     "shell.execute_reply": "2024-01-05T16:08:50.877564Z"
    },
    "papermill": {
     "duration": 0.018057,
     "end_time": "2024-01-05T16:08:50.880188",
     "exception": false,
     "start_time": "2024-01-05T16:08:50.862131",
     "status": "completed"
    },
    "tags": []
   },
   "outputs": [
    {
     "data": {
      "text/plain": [
       "tensor([10, 20, 30])"
      ]
     },
     "execution_count": 18,
     "metadata": {},
     "output_type": "execute_result"
    }
   ],
   "source": [
    "# Multiply tensor by 10\n",
    "\n",
    "tensor = tensor * 10\n",
    "tensor"
   ]
  },
  {
   "cell_type": "code",
   "execution_count": 19,
   "id": "df2c2d30",
   "metadata": {
    "execution": {
     "iopub.execute_input": "2024-01-05T16:08:50.898055Z",
     "iopub.status.busy": "2024-01-05T16:08:50.897755Z",
     "iopub.status.idle": "2024-01-05T16:08:50.903553Z",
     "shell.execute_reply": "2024-01-05T16:08:50.902771Z"
    },
    "papermill": {
     "duration": 0.01706,
     "end_time": "2024-01-05T16:08:50.905522",
     "exception": false,
     "start_time": "2024-01-05T16:08:50.888462",
     "status": "completed"
    },
    "tags": []
   },
   "outputs": [
    {
     "data": {
      "text/plain": [
       "tensor([1., 2., 3.])"
      ]
     },
     "execution_count": 19,
     "metadata": {},
     "output_type": "execute_result"
    }
   ],
   "source": [
    "# Divide the tensor by 10\n",
    "tensor = tensor / 10\n",
    "tensor"
   ]
  },
  {
   "cell_type": "code",
   "execution_count": 20,
   "id": "30934709",
   "metadata": {
    "execution": {
     "iopub.execute_input": "2024-01-05T16:08:50.923642Z",
     "iopub.status.busy": "2024-01-05T16:08:50.923362Z",
     "iopub.status.idle": "2024-01-05T16:08:50.968014Z",
     "shell.execute_reply": "2024-01-05T16:08:50.967198Z"
    },
    "papermill": {
     "duration": 0.055836,
     "end_time": "2024-01-05T16:08:50.969975",
     "exception": false,
     "start_time": "2024-01-05T16:08:50.914139",
     "status": "completed"
    },
    "tags": []
   },
   "outputs": [
    {
     "data": {
      "text/plain": [
       "tensor([[0.1923, 1.2084, 0.0604],\n",
       "        [0.1998, 1.2570, 0.0631],\n",
       "        [0.1831, 1.3051, 0.0927]])"
      ]
     },
     "execution_count": 20,
     "metadata": {},
     "output_type": "execute_result"
    }
   ],
   "source": [
    "# Matrix Multiplication\n",
    "\n",
    "# Element wise multiplication\n",
    "tensor1 = torch.rand(size=(3,2))\n",
    "tensor2 = torch.rand(size=(2,3))\n",
    "\n",
    "tensor1\n",
    "tensor2\n",
    "\n",
    "out = torch.matmul(tensor1,tensor2)\n",
    "out\n",
    "\n"
   ]
  }
 ],
 "metadata": {
  "kaggle": {
   "accelerator": "gpu",
   "dataSources": [],
   "dockerImageVersionId": 30627,
   "isGpuEnabled": true,
   "isInternetEnabled": true,
   "language": "python",
   "sourceType": "notebook"
  },
  "kernelspec": {
   "display_name": "Python 3",
   "language": "python",
   "name": "python3"
  },
  "language_info": {
   "codemirror_mode": {
    "name": "ipython",
    "version": 3
   },
   "file_extension": ".py",
   "mimetype": "text/x-python",
   "name": "python",
   "nbconvert_exporter": "python",
   "pygments_lexer": "ipython3",
   "version": "3.10.12"
  },
  "papermill": {
   "default_parameters": {},
   "duration": 10.198421,
   "end_time": "2024-01-05T16:08:52.098752",
   "environment_variables": {},
   "exception": null,
   "input_path": "__notebook__.ipynb",
   "output_path": "__notebook__.ipynb",
   "parameters": {},
   "start_time": "2024-01-05T16:08:41.900331",
   "version": "2.4.0"
  }
 },
 "nbformat": 4,
 "nbformat_minor": 5
}
